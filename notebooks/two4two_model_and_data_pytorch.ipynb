{
 "cells": [
  {
   "cell_type": "markdown",
   "metadata": {
    "colab_type": "text",
    "id": "view-in-github"
   },
   "source": [
    "<a href=\"https://colab.research.google.com/github/davidsjohnson/evalxai_studies/blob/main/notebooks/two4two_model_and_data_pytorch.ipynb\" target=\"_parent\"><img src=\"https://colab.research.google.com/assets/colab-badge.svg\" alt=\"Open In Colab\"/></a>"
   ]
  },
  {
   "cell_type": "code",
   "execution_count": 1,
   "metadata": {
    "id": "Yi0pAex6RNDU"
   },
   "outputs": [],
   "source": [
    "import pathlib\n",
    "import os\n",
    "import sys\n",
    "from pathlib import Path\n",
    "import tarfile\n",
    "import random\n",
    "\n",
    "import numpy as np\n",
    "\n",
    "import pandas as pd\n",
    "\n",
    "import torch\n",
    "import torch.nn as nn\n",
    "import torch.nn.functional as F\n",
    "from torch.utils.data import Dataset, DataLoader\n",
    "import torchvision.models as models\n",
    "from torchvision import transforms\n",
    "\n",
    "from PIL import Image\n",
    "\n",
    "import utils\n",
    "\n",
    "torch.backends.cudnn.benchmark = True"
   ]
  },
  {
   "cell_type": "code",
   "execution_count": 2,
   "metadata": {
    "colab": {
     "base_uri": "https://localhost:8080/",
     "height": 35
    },
    "id": "2cRrJspk1gmU",
    "outputId": "d8ed4689-5248-42aa-e3a6-329f2559c3a4"
   },
   "outputs": [
    {
     "data": {
      "text/plain": [
       "'2.2.2'"
      ]
     },
     "execution_count": 2,
     "metadata": {},
     "output_type": "execute_result"
    }
   ],
   "source": [
    "torch.__version__"
   ]
  },
  {
   "cell_type": "markdown",
   "metadata": {
    "id": "rxTk1ctGpvnW"
   },
   "source": [
    "# Params"
   ]
  },
  {
   "cell_type": "code",
   "execution_count": 3,
   "metadata": {
    "id": "SLpJb-H9pxs_"
   },
   "outputs": [],
   "source": [
    "CLASSES = ['Healthy', 'OC Degeneration']\n",
    "modeltype = 'mobilenet'\n",
    "ds = 'sick_ones_bendbias'"
   ]
  },
  {
   "cell_type": "markdown",
   "metadata": {
    "id": "Ua-n5ADsde6b"
   },
   "source": [
    "# Setup and Load Datasets"
   ]
  },
  {
   "cell_type": "code",
   "execution_count": 4,
   "metadata": {
    "id": "HPi0wvbicrct"
   },
   "outputs": [],
   "source": [
    "def load_dataframe(data_dir, dataset):\n",
    "  data_dir = data_dir / dataset\n",
    "  df = pd.read_json(data_dir / 'parameters.jsonl', lines=True)\n",
    "  df['filename'] = df['id'] + '.png'\n",
    "  df['ill'] = df['ill'].astype(int).astype(str)\n",
    "  return df\n",
    "\n",
    "class ImageDataset(Dataset):\n",
    "    def __init__(self, df, data_dir, transform=None):\n",
    "        self.df = df\n",
    "        self.data_dir = data_dir\n",
    "        self.transform = transform\n",
    "\n",
    "    def __len__(self):\n",
    "        return len(self.df)\n",
    "\n",
    "    def __getitem__(self, idx):\n",
    "        img_path = os.path.join(self.data_dir, self.df.iloc[idx]['filename'])\n",
    "        image = Image.open(img_path).convert('RGB')\n",
    "        label = int(self.df.iloc[idx]['ill'])\n",
    "\n",
    "        if self.transform:\n",
    "            image = self.transform(image)\n",
    "\n",
    "        return image, label"
   ]
  },
  {
   "cell_type": "markdown",
   "metadata": {
    "id": "ReNR_Y0QProQ"
   },
   "source": [
    "## Load Dataset and Dataloaders\n"
   ]
  },
  {
   "cell_type": "code",
   "execution_count": 5,
   "metadata": {
    "colab": {
     "base_uri": "https://localhost:8080/"
    },
    "id": "6a1B47gWYgVG",
    "outputId": "96ba202f-90a4-4dac-d629-65bea14cb6f0"
   },
   "outputs": [
    {
     "name": "stdout",
     "output_type": "stream",
     "text": [
      "File already exists at: ../data/two4two_datasets.tar.gz\n",
      "File already extracted to: ../data/two4two_datasets\n"
     ]
    },
    {
     "data": {
      "text/plain": [
       "PosixPath('../data/two4two_datasets')"
      ]
     },
     "execution_count": 5,
     "metadata": {},
     "output_type": "execute_result"
    }
   ],
   "source": [
    "# download data direcly from sciebo\n",
    "# (or setup own data location if prefered)\n",
    "\n",
    "data_dir = utils.download_file(url=\"https://uni-bielefeld.sciebo.de/s/AIJLvXMwP0ngEiW/download\",\n",
    "                               file_name=\"two4two_datasets.tar.gz\",\n",
    "                               cache_dir='../data', # change this if not using Colab\n",
    "                               extract=False,\n",
    "                               force_download=False,\n",
    "                         archive_folder='two4two_datasets')\n",
    "data_dir"
   ]
  },
  {
   "cell_type": "code",
   "execution_count": 6,
   "metadata": {
    "colab": {
     "base_uri": "https://localhost:8080/"
    },
    "id": "bn3D8znPQN-F",
    "outputId": "7ccc1c72-c273-4663-bbca-997f5c80106b"
   },
   "outputs": [
    {
     "data": {
      "text/plain": [
       "PosixPath('../data/two4two_datasets/sick_ones_bendbias')"
      ]
     },
     "execution_count": 6,
     "metadata": {},
     "output_type": "execute_result"
    }
   ],
   "source": [
    "ds_dir = data_dir / ds\n",
    "ds_dir"
   ]
  },
  {
   "cell_type": "code",
   "execution_count": 7,
   "metadata": {
    "id": "n-yCAoLQprGc"
   },
   "outputs": [],
   "source": [
    "# load datasets and dataloaders for pytorch processing\n",
    "transform = transforms.Compose([\n",
    "    transforms.ToTensor(),\n",
    "])\n",
    "\n",
    "\n",
    "train_df = load_dataframe(ds_dir, 'train')\n",
    "val_df = load_dataframe(ds_dir, 'validation')\n",
    "test_df = load_dataframe(ds_dir, 'test')\n",
    "\n",
    "train_dataset = ImageDataset(train_df, ds_dir / 'train', transform=transform)\n",
    "train_dataloader = DataLoader(train_dataset, batch_size=32, shuffle=True,\n",
    "                              num_workers=0, pin_memory=True)\n",
    "\n",
    "val_dataset = ImageDataset(val_df,  ds_dir / 'validation', transform=transform)\n",
    "val_dataloader = DataLoader(val_dataset, batch_size=32, shuffle=False,\n",
    "                            num_workers=0, pin_memory=True)\n",
    "\n",
    "test_dataset = ImageDataset(test_df,  ds_dir / 'test', transform=transform)\n",
    "test_dataloader = DataLoader(test_dataset, batch_size=32, shuffle=False,\n",
    "                             num_workers=0, pin_memory=True)"
   ]
  },
  {
   "cell_type": "markdown",
   "metadata": {
    "id": "AiMdu2w_dj2O"
   },
   "source": [
    "# Model Loading and Evaluation\n",
    "\n",
    "\n",
    "\n"
   ]
  },
  {
   "cell_type": "code",
   "execution_count": 8,
   "metadata": {
    "id": "hH-LE1Vlspbt"
   },
   "outputs": [],
   "source": [
    "def load_mobilenetv2(num_classes, pretrained=True, checkpoint_path=None):\n",
    "  \"\"\"Loads a MobileNetV2 model, optionally loading from a checkpoint.\n",
    "\n",
    "  Args:\n",
    "    num_classes: The number of output classes.\n",
    "    pretrained: Whether to load the pre-trained weights.\n",
    "    checkpoint_path: Path to a checkpoint file to load.\n",
    "\n",
    "  Returns:\n",
    "    A MobileNetV2 model.\n",
    "  \"\"\"\n",
    "  model = models.mobilenet_v2(weights=None if not pretrained else 'DEFAULT')\n",
    "  model.classifier[1] = nn.Linear(model.last_channel, num_classes)\n",
    "\n",
    "  if checkpoint_path:\n",
    "    checkpoint = torch.load(checkpoint_path, map_location='cpu')\n",
    "    model.load_state_dict(checkpoint)\n",
    "    print(f\"Loaded checkpoint from: {checkpoint_path}\")\n",
    "\n",
    "  return model"
   ]
  },
  {
   "cell_type": "code",
   "execution_count": 9,
   "metadata": {
    "id": "fd7Ww-9otfaV"
   },
   "outputs": [],
   "source": [
    "def set_seed(seed):\n",
    "  \"\"\"\n",
    "  Sets random seeds for reproducibility.\n",
    "  \"\"\"\n",
    "  random.seed(seed)\n",
    "  np.random.seed(seed)\n",
    "  torch.manual_seed(seed)\n",
    "  torch.cuda.manual_seed_all(seed)\n",
    "  torch.backends.cudnn.deterministic = True\n",
    "  torch.backends.cudnn.benchmark = False\n",
    "\n",
    "\n",
    "def evaluate_model(model, dataloader, criterion, device):\n",
    "    model.eval()  # Set model to evaluation mode\n",
    "    running_loss = 0.0\n",
    "    correct = 0\n",
    "    total = 0\n",
    "\n",
    "    with torch.no_grad():  # Disable gradient calculation\n",
    "        for inputs, labels in dataloader:\n",
    "            inputs, labels = inputs.to(device), labels.to(device)\n",
    "\n",
    "            # Forward pass\n",
    "            outputs = model(inputs)\n",
    "            loss = criterion(outputs, labels)\n",
    "\n",
    "            # Track loss and accuracy\n",
    "            running_loss += loss.item()\n",
    "            _, predicted = outputs.max(1)\n",
    "            correct += (predicted == labels).sum().item()\n",
    "            total += labels.size(0)\n",
    "\n",
    "    avg_loss = running_loss / len(dataloader)\n",
    "    accuracy = correct / total\n",
    "\n",
    "    print(f\"Evaluation Loss: {avg_loss:.4f}, Evaluation Accuracy: {accuracy:.4f}\")\n",
    "    return avg_loss, accuracy\n"
   ]
  },
  {
   "cell_type": "code",
   "execution_count": 10,
   "metadata": {
    "colab": {
     "base_uri": "https://localhost:8080/"
    },
    "id": "33bS-lo5bxD9",
    "outputId": "bef53097-7c9b-4739-9645-e4a969f78f85"
   },
   "outputs": [
    {
     "name": "stdout",
     "output_type": "stream",
     "text": [
      "File already exists at: ../models/mobilenetv2_checkpoint/best_model.pth\n"
     ]
    },
    {
     "data": {
      "text/plain": [
       "PosixPath('../models/mobilenetv2_checkpoint/best_model.pth')"
      ]
     },
     "execution_count": 10,
     "metadata": {},
     "output_type": "execute_result"
    }
   ],
   "source": [
    "checkpoint_path =utils.download_file(url='https://uni-bielefeld.sciebo.de/s/5uQFFsAprXT05in/download',\n",
    "                                     file_name='best_model.pth',\n",
    "                                     cache_dir='../models/mobilenetv2_checkpoint', # change this if not using Colab\n",
    "                                     extract=False,\n",
    "                                     force_download=False)\n",
    "checkpoint_path"
   ]
  },
  {
   "cell_type": "code",
   "execution_count": 11,
   "metadata": {
    "colab": {
     "base_uri": "https://localhost:8080/"
    },
    "id": "k7ViedtsuqzK",
    "outputId": "43236531-3965-4ac6-b1ed-d950e3261ee9"
   },
   "outputs": [
    {
     "data": {
      "text/plain": [
       "device(type='cpu')"
      ]
     },
     "execution_count": 11,
     "metadata": {},
     "output_type": "execute_result"
    }
   ],
   "source": [
    "# Define loss function and optimizer\n",
    "criterion = nn.CrossEntropyLoss()\n",
    "\n",
    "# Set device\n",
    "device = torch.device(\"cuda\" if torch.cuda.is_available() else \"cpu\")\n",
    "device"
   ]
  },
  {
   "cell_type": "markdown",
   "metadata": {
    "id": "T-gxat5Ju4zD"
   },
   "source": [
    "## Evaluate Model"
   ]
  },
  {
   "cell_type": "code",
   "execution_count": 12,
   "metadata": {
    "colab": {
     "base_uri": "https://localhost:8080/"
    },
    "id": "s86_4TcNxj-B",
    "outputId": "caf5c317-c4b4-4910-b79e-4d6f987f0980"
   },
   "outputs": [
    {
     "name": "stdout",
     "output_type": "stream",
     "text": [
      "Loaded checkpoint from: ../models/mobilenetv2_checkpoint/best_model.pth\n",
      "Evaluation Loss: 0.2447, Evaluation Accuracy: 0.8924\n",
      "Evaluation Loss: 0.2928, Evaluation Accuracy: 0.8710\n",
      "Evaluation Loss: 0.2911, Evaluation Accuracy: 0.8680\n"
     ]
    },
    {
     "data": {
      "text/plain": [
       "(0.2910528095795753, 0.868)"
      ]
     },
     "execution_count": 12,
     "metadata": {},
     "output_type": "execute_result"
    }
   ],
   "source": [
    "# load best model and evaluate\n",
    "model = load_mobilenetv2(num_classes=len(CLASSES),\n",
    "                         pretrained=False,\n",
    "                         checkpoint_path=checkpoint_path)\n",
    "model.to(device)\n",
    "\n",
    "evaluate_model(model, train_dataloader, criterion, device)\n",
    "evaluate_model(model, val_dataloader, criterion, device)\n",
    "evaluate_model(model, test_dataloader, criterion, device)"
   ]
  },
  {
   "cell_type": "code",
   "execution_count": 17,
   "metadata": {
    "id": "vSuYGeCN_e8c"
   },
   "outputs": [
    {
     "data": {
      "text/plain": [
       "tensor([[ 0.2716, -0.3605]], grad_fn=<AddmmBackward0>)"
      ]
     },
     "execution_count": 17,
     "metadata": {},
     "output_type": "execute_result"
    }
   ],
   "source": [
    "model(test_dataset[0][0].unsqueeze(0))"
   ]
  },
  {
   "cell_type": "code",
   "execution_count": 18,
   "metadata": {},
   "outputs": [
    {
     "name": "stdout",
     "output_type": "stream",
     "text": [
      "Evaluation Loss: 0.2911, Evaluation Accuracy: 0.8680\n"
     ]
    },
    {
     "data": {
      "text/plain": [
       "(0.2910528095795753, 0.868)"
      ]
     },
     "execution_count": 18,
     "metadata": {},
     "output_type": "execute_result"
    }
   ],
   "source": [
    "evaluate_model(model, test_dataloader, criterion, device)"
   ]
  },
  {
   "cell_type": "code",
   "execution_count": 20,
   "metadata": {},
   "outputs": [
    {
     "data": {
      "text/plain": [
       "3000"
      ]
     },
     "execution_count": 20,
     "metadata": {},
     "output_type": "execute_result"
    }
   ],
   "source": [
    "len(test_dataset)"
   ]
  },
  {
   "cell_type": "code",
   "execution_count": null,
   "metadata": {},
   "outputs": [],
   "source": []
  }
 ],
 "metadata": {
  "accelerator": "GPU",
  "colab": {
   "authorship_tag": "ABX9TyPXLg8Ys9tLqSX2KUx0r+9+",
   "gpuType": "T4",
   "include_colab_link": true,
   "machine_shape": "hm",
   "mount_file_id": "1n5452htjSn6n7eCmFVkp2VlO7Y3M8b8Z",
   "provenance": []
  },
  "kernelspec": {
   "display_name": "Python 3",
   "name": "python3"
  },
  "language_info": {
   "codemirror_mode": {
    "name": "ipython",
    "version": 3
   },
   "file_extension": ".py",
   "mimetype": "text/x-python",
   "name": "python",
   "nbconvert_exporter": "python",
   "pygments_lexer": "ipython3",
   "version": "3.10.15"
  }
 },
 "nbformat": 4,
 "nbformat_minor": 0
}
