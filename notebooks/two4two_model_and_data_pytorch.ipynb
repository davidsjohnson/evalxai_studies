{
  "nbformat": 4,
  "nbformat_minor": 0,
  "metadata": {
    "colab": {
      "provenance": [],
      "machine_shape": "hm",
      "gpuType": "T4",
      "mount_file_id": "1n5452htjSn6n7eCmFVkp2VlO7Y3M8b8Z",
      "authorship_tag": "ABX9TyPLMbH6RIxI5VC9PSisaABU",
      "include_colab_link": true
    },
    "kernelspec": {
      "name": "python3",
      "display_name": "Python 3"
    },
    "language_info": {
      "name": "python"
    },
    "accelerator": "GPU"
  },
  "cells": [
    {
      "cell_type": "markdown",
      "metadata": {
        "id": "view-in-github",
        "colab_type": "text"
      },
      "source": [
        "<a href=\"https://colab.research.google.com/github/davidsjohnson/evalxai_studies/blob/main/notebooks/two4two_model_and_data_pytorch.ipynb\" target=\"_parent\"><img src=\"https://colab.research.google.com/assets/colab-badge.svg\" alt=\"Open In Colab\"/></a>"
      ]
    },
    {
      "cell_type": "code",
      "execution_count": 1,
      "metadata": {
        "id": "Yi0pAex6RNDU"
      },
      "outputs": [],
      "source": [
        "import pathlib\n",
        "import os\n",
        "import sys\n",
        "from pathlib import Path\n",
        "import tarfile\n",
        "import random\n",
        "\n",
        "import numpy as np\n",
        "\n",
        "import pandas as pd\n",
        "\n",
        "import torch\n",
        "import torch.nn as nn\n",
        "import torch.nn.functional as F\n",
        "from torch.utils.data import Dataset, DataLoader\n",
        "import torchvision.models as models\n",
        "from torchvision import transforms\n",
        "\n",
        "from PIL import Image\n",
        "\n",
        "torch.backends.cudnn.benchmark = True"
      ]
    },
    {
      "cell_type": "code",
      "source": [
        "torch.__version__"
      ],
      "metadata": {
        "id": "2cRrJspk1gmU",
        "colab": {
          "base_uri": "https://localhost:8080/",
          "height": 35
        },
        "outputId": "d8ed4689-5248-42aa-e3a6-329f2559c3a4"
      },
      "execution_count": 2,
      "outputs": [
        {
          "output_type": "execute_result",
          "data": {
            "text/plain": [
              "'2.5.1+cu121'"
            ],
            "application/vnd.google.colaboratory.intrinsic+json": {
              "type": "string"
            }
          },
          "metadata": {},
          "execution_count": 2
        }
      ]
    },
    {
      "cell_type": "markdown",
      "source": [
        "# Params"
      ],
      "metadata": {
        "id": "rxTk1ctGpvnW"
      }
    },
    {
      "cell_type": "code",
      "source": [
        "CLASSES = ['Healthy', 'OC Degeneration']\n",
        "modeltype = 'mobilenet'\n",
        "ds = 'sick_ones_bendbias'"
      ],
      "metadata": {
        "id": "SLpJb-H9pxs_"
      },
      "execution_count": 3,
      "outputs": []
    },
    {
      "cell_type": "markdown",
      "source": [
        "# Setup and Load Datasets"
      ],
      "metadata": {
        "id": "Ua-n5ADsde6b"
      }
    },
    {
      "cell_type": "code",
      "source": [
        "# # change this to path of model\n",
        "# relative_model_path = \"two4two_sickones_models_pytorch\"\n",
        "# base_path = Path('/content/drive/MyDrive') / relative_model_path\n",
        "# base_path"
      ],
      "metadata": {
        "id": "eSBMiJ-ARVcd"
      },
      "execution_count": null,
      "outputs": []
    },
    {
      "cell_type": "code",
      "source": [
        "# data downloading and dataset utilities\n",
        "\n",
        "def download_file(url, file_name, cache_dir=\"data\", extract=True, force_download=False, archive_folder=None):\n",
        "    # Ensure the cache directory exists\n",
        "    os.makedirs(cache_dir, exist_ok=True)\n",
        "    file_path = os.path.join(cache_dir, file_name)\n",
        "\n",
        "    # Download the file\n",
        "    if not os.path.exists(file_path) or force_download:\n",
        "      torch.hub.download_url_to_file(url, file_path)\n",
        "      print(f\"File downloaded to: {file_path}\")\n",
        "    else:\n",
        "      print(f\"File already exists at: {file_path}\")\n",
        "\n",
        "    if extract:\n",
        "      with tarfile.open(file_path, \"r:gz\") as tar:\n",
        "          tar.extractall(path=cache_dir)\n",
        "      print(f\"File extracted to: {cache_dir}\")\n",
        "      return Path(cache_dir) / archive_folder if archive_folder is not None else Path(cache_dir)\n",
        "\n",
        "    return Path(file_path)\n",
        "\n",
        "def load_dataframe(data_dir, dataset):\n",
        "  data_dir = data_dir / dataset\n",
        "  df = pd.read_json(data_dir / 'parameters.jsonl', lines=True)\n",
        "  df['filename'] = df['id'] + '.png'\n",
        "  df['ill'] = df['ill'].astype(int).astype(str)\n",
        "  return df\n",
        "\n",
        "class ImageDataset(Dataset):\n",
        "    def __init__(self, df, data_dir, transform=None):\n",
        "        self.df = df\n",
        "        self.data_dir = data_dir\n",
        "        self.transform = transform\n",
        "\n",
        "    def __len__(self):\n",
        "        return len(self.df)\n",
        "\n",
        "    def __getitem__(self, idx):\n",
        "        img_path = os.path.join(self.data_dir, self.df.iloc[idx]['filename'])\n",
        "        image = Image.open(img_path).convert('RGB')\n",
        "        label = int(self.df.iloc[idx]['ill'])\n",
        "\n",
        "        if self.transform:\n",
        "            image = self.transform(image)\n",
        "\n",
        "        return image, label"
      ],
      "metadata": {
        "id": "HPi0wvbicrct"
      },
      "execution_count": 4,
      "outputs": []
    },
    {
      "cell_type": "markdown",
      "source": [
        "## Load Dataset and Dataloaders\n"
      ],
      "metadata": {
        "id": "ReNR_Y0QProQ"
      }
    },
    {
      "cell_type": "code",
      "source": [
        "# download data direcly from sciebo\n",
        "# (or setup own data location if prefered)\n",
        "\n",
        "data_dir = download_file(url=\"https://uni-bielefeld.sciebo.de/s/AIJLvXMwP0ngEiW/download\",\n",
        "                         file_name=\"two4two_datasets.tar.gz\",\n",
        "                         cache_dir='/content/data', # change this if not using Colab\n",
        "                         extract=True,\n",
        "                         force_download=False,\n",
        "                         archive_folder='two4two_datasets')\n",
        "data_dir"
      ],
      "metadata": {
        "id": "6a1B47gWYgVG",
        "colab": {
          "base_uri": "https://localhost:8080/"
        },
        "outputId": "96ba202f-90a4-4dac-d629-65bea14cb6f0"
      },
      "execution_count": 5,
      "outputs": [
        {
          "output_type": "stream",
          "name": "stderr",
          "text": [
            "100%|██████████| 1.79G/1.79G [00:51<00:00, 37.5MB/s]\n"
          ]
        },
        {
          "output_type": "stream",
          "name": "stdout",
          "text": [
            "File downloaded to: /content/data/two4two_datasets.tar.gz\n",
            "File extracted to: /content/data\n"
          ]
        },
        {
          "output_type": "execute_result",
          "data": {
            "text/plain": [
              "PosixPath('/content/data/two4two_datasets')"
            ]
          },
          "metadata": {},
          "execution_count": 5
        }
      ]
    },
    {
      "cell_type": "code",
      "source": [
        "ds_dir = data_dir / ds\n",
        "ds_dir"
      ],
      "metadata": {
        "id": "bn3D8znPQN-F",
        "colab": {
          "base_uri": "https://localhost:8080/"
        },
        "outputId": "7ccc1c72-c273-4663-bbca-997f5c80106b"
      },
      "execution_count": 6,
      "outputs": [
        {
          "output_type": "execute_result",
          "data": {
            "text/plain": [
              "PosixPath('/content/data/two4two_datasets/sick_ones_bendbias')"
            ]
          },
          "metadata": {},
          "execution_count": 6
        }
      ]
    },
    {
      "cell_type": "code",
      "source": [
        "# load datasets and dataloaders for pytorch processing\n",
        "transform = transforms.Compose([\n",
        "    transforms.ToTensor(),\n",
        "])\n",
        "\n",
        "\n",
        "train_df = load_dataframe(ds_dir, 'train')\n",
        "val_df = load_dataframe(ds_dir, 'validation')\n",
        "test_df = load_dataframe(ds_dir, 'test')\n",
        "\n",
        "train_dataset = ImageDataset(train_df, ds_dir / 'train', transform=transform)\n",
        "train_dataloader = DataLoader(train_dataset, batch_size=32, shuffle=True,\n",
        "                              num_workers=6, pin_memory=True)\n",
        "\n",
        "val_dataset = ImageDataset(val_df,  ds_dir / 'validation', transform=transform)\n",
        "val_dataloader = DataLoader(val_dataset, batch_size=32, shuffle=False,\n",
        "                            num_workers=6, pin_memory=True)\n",
        "\n",
        "test_dataset = ImageDataset(test_df,  ds_dir / 'test', transform=transform)\n",
        "test_dataloader = DataLoader(test_dataset, batch_size=32, shuffle=False,\n",
        "                             num_workers=6, pin_memory=True)"
      ],
      "metadata": {
        "id": "n-yCAoLQprGc"
      },
      "execution_count": 7,
      "outputs": []
    },
    {
      "cell_type": "markdown",
      "source": [
        "# Model Loading and Evaluation\n",
        "\n",
        "\n",
        "\n"
      ],
      "metadata": {
        "id": "AiMdu2w_dj2O"
      }
    },
    {
      "cell_type": "code",
      "source": [
        "def load_mobilenetv2(num_classes, pretrained=True, checkpoint_path=None):\n",
        "  \"\"\"Loads a MobileNetV2 model, optionally loading from a checkpoint.\n",
        "\n",
        "  Args:\n",
        "    num_classes: The number of output classes.\n",
        "    pretrained: Whether to load the pre-trained weights.\n",
        "    checkpoint_path: Path to a checkpoint file to load.\n",
        "\n",
        "  Returns:\n",
        "    A MobileNetV2 model.\n",
        "  \"\"\"\n",
        "  model = models.mobilenet_v2(weights=None if not pretrained else 'DEFAULT')\n",
        "  model.classifier[1] = nn.Linear(model.last_channel, num_classes)\n",
        "\n",
        "  if checkpoint_path:\n",
        "    checkpoint = torch.load(checkpoint_path)\n",
        "    model.load_state_dict(checkpoint)\n",
        "    print(f\"Loaded checkpoint from: {checkpoint_path}\")\n",
        "\n",
        "  return model"
      ],
      "metadata": {
        "id": "hH-LE1Vlspbt"
      },
      "execution_count": 8,
      "outputs": []
    },
    {
      "cell_type": "code",
      "source": [
        "def set_seed(seed):\n",
        "  \"\"\"\n",
        "  Sets random seeds for reproducibility.\n",
        "  \"\"\"\n",
        "  random.seed(seed)\n",
        "  np.random.seed(seed)\n",
        "  torch.manual_seed(seed)\n",
        "  torch.cuda.manual_seed_all(seed)\n",
        "  torch.backends.cudnn.deterministic = True\n",
        "  torch.backends.cudnn.benchmark = False\n",
        "\n",
        "\n",
        "def evaluate_model(model, dataloader, criterion, device):\n",
        "    model.eval()  # Set model to evaluation mode\n",
        "    running_loss = 0.0\n",
        "    correct = 0\n",
        "    total = 0\n",
        "\n",
        "    with torch.no_grad():  # Disable gradient calculation\n",
        "        for inputs, labels in dataloader:\n",
        "            inputs, labels = inputs.to(device), labels.to(device)\n",
        "\n",
        "            # Forward pass\n",
        "            outputs = model(inputs)\n",
        "            loss = criterion(outputs, labels)\n",
        "\n",
        "            # Track loss and accuracy\n",
        "            running_loss += loss.item()\n",
        "            _, predicted = outputs.max(1)\n",
        "            correct += (predicted == labels).sum().item()\n",
        "            total += labels.size(0)\n",
        "\n",
        "    avg_loss = running_loss / len(dataloader)\n",
        "    accuracy = correct / total\n",
        "\n",
        "    print(f\"Evaluation Loss: {avg_loss:.4f}, Evaluation Accuracy: {accuracy:.4f}\")\n",
        "    return avg_loss, accuracy\n"
      ],
      "metadata": {
        "id": "fd7Ww-9otfaV"
      },
      "execution_count": 9,
      "outputs": []
    },
    {
      "cell_type": "code",
      "source": [
        "checkpoint_path = download_file(url='https://uni-bielefeld.sciebo.de/s/5uQFFsAprXT05in/download',\n",
        "                                file_name='best_model.pth',\n",
        "                                cache_dir='/content/model/mobilenetv2_checkpoint', # change this if not using Colab\n",
        "                                extract=False,\n",
        "                                force_download=False)\n",
        "checkpoint_path"
      ],
      "metadata": {
        "colab": {
          "base_uri": "https://localhost:8080/"
        },
        "id": "33bS-lo5bxD9",
        "outputId": "bef53097-7c9b-4739-9645-e4a969f78f85"
      },
      "execution_count": 13,
      "outputs": [
        {
          "output_type": "stream",
          "name": "stderr",
          "text": [
            "100%|██████████| 8.73M/8.73M [00:01<00:00, 8.58MB/s]"
          ]
        },
        {
          "output_type": "stream",
          "name": "stdout",
          "text": [
            "File downloaded to: /content/model/mobilenetv2_checkpoint/best_model.pth\n"
          ]
        },
        {
          "output_type": "stream",
          "name": "stderr",
          "text": [
            "\n"
          ]
        },
        {
          "output_type": "execute_result",
          "data": {
            "text/plain": [
              "PosixPath('/content/model/mobilenetv2_checkpoint/best_model.pth')"
            ]
          },
          "metadata": {},
          "execution_count": 13
        }
      ]
    },
    {
      "cell_type": "code",
      "source": [
        "# Define loss function and optimizer\n",
        "criterion = nn.CrossEntropyLoss()\n",
        "\n",
        "# Set device\n",
        "device = torch.device(\"cuda\" if torch.cuda.is_available() else \"cpu\")\n",
        "device"
      ],
      "metadata": {
        "id": "k7ViedtsuqzK",
        "colab": {
          "base_uri": "https://localhost:8080/"
        },
        "outputId": "43236531-3965-4ac6-b1ed-d950e3261ee9"
      },
      "execution_count": 14,
      "outputs": [
        {
          "output_type": "execute_result",
          "data": {
            "text/plain": [
              "device(type='cuda')"
            ]
          },
          "metadata": {},
          "execution_count": 14
        }
      ]
    },
    {
      "cell_type": "markdown",
      "source": [
        "## Evaluate Model"
      ],
      "metadata": {
        "id": "T-gxat5Ju4zD"
      }
    },
    {
      "cell_type": "code",
      "source": [
        "# load best model and evaluate\n",
        "model = load_mobilenetv2(num_classes=len(CLASSES),\n",
        "                         pretrained=False,\n",
        "                         checkpoint_path=checkpoint_path)\n",
        "model.to(device)\n",
        "\n",
        "evaluate_model(model, train_dataloader, criterion, device)\n",
        "evaluate_model(model, val_dataloader, criterion, device)\n",
        "evaluate_model(model, test_dataloader, criterion, device)"
      ],
      "metadata": {
        "id": "s86_4TcNxj-B",
        "colab": {
          "base_uri": "https://localhost:8080/"
        },
        "outputId": "caf5c317-c4b4-4910-b79e-4d6f987f0980"
      },
      "execution_count": 15,
      "outputs": [
        {
          "output_type": "stream",
          "name": "stderr",
          "text": [
            "<ipython-input-8-8ca1eb820737>:16: FutureWarning: You are using `torch.load` with `weights_only=False` (the current default value), which uses the default pickle module implicitly. It is possible to construct malicious pickle data which will execute arbitrary code during unpickling (See https://github.com/pytorch/pytorch/blob/main/SECURITY.md#untrusted-models for more details). In a future release, the default value for `weights_only` will be flipped to `True`. This limits the functions that could be executed during unpickling. Arbitrary objects will no longer be allowed to be loaded via this mode unless they are explicitly allowlisted by the user via `torch.serialization.add_safe_globals`. We recommend you start setting `weights_only=True` for any use case where you don't have full control of the loaded file. Please open an issue on GitHub for any issues related to this experimental feature.\n",
            "  checkpoint = torch.load(checkpoint_path)\n"
          ]
        },
        {
          "output_type": "stream",
          "name": "stdout",
          "text": [
            "Loaded checkpoint from: /content/model/mobilenetv2_checkpoint/best_model.pth\n",
            "Evaluation Loss: 0.2447, Evaluation Accuracy: 0.8924\n",
            "Evaluation Loss: 0.2928, Evaluation Accuracy: 0.8710\n",
            "Evaluation Loss: 0.2911, Evaluation Accuracy: 0.8680\n"
          ]
        },
        {
          "output_type": "execute_result",
          "data": {
            "text/plain": [
              "(0.2910529184848704, 0.868)"
            ]
          },
          "metadata": {},
          "execution_count": 15
        }
      ]
    },
    {
      "cell_type": "code",
      "source": [],
      "metadata": {
        "id": "vSuYGeCN_e8c"
      },
      "execution_count": null,
      "outputs": []
    }
  ]
}