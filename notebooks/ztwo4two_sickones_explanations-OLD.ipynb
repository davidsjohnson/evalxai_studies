{
  "cells": [
    {
      "cell_type": "markdown",
      "metadata": {
        "colab_type": "text",
        "id": "view-in-github"
      },
      "source": [
        "<a href=\"https://colab.research.google.com/github/davidsjohnson/evalxai_studies/blob/main/two4two_sickones_explanations.ipynb\" target=\"_parent\"><img src=\"https://colab.research.google.com/assets/colab-badge.svg\" alt=\"Open In Colab\"/></a>"
      ]
    },
    {
      "cell_type": "code",
      "execution_count": 1,
      "metadata": {
        "id": "Yi0pAex6RNDU"
      },
      "outputs": [
        {
          "name": "stderr",
          "output_type": "stream",
          "text": [
            "2024-08-01 16:05:06.354411: I tensorflow/core/platform/cpu_feature_guard.cc:182] This TensorFlow binary is optimized to use available CPU instructions in performance-critical operations.\n",
            "To enable the following instructions: SSE4.1 SSE4.2 AVX AVX2 AVX512F AVX512_VNNI FMA, in other operations, rebuild TensorFlow with the appropriate compiler flags.\n"
          ]
        }
      ],
      "source": [
        "import pathlib\n",
        "import os\n",
        "from pathlib import Path\n",
        "import random\n",
        "import datetime\n",
        "\n",
        "import numpy as np\n",
        "from PIL import Image\n",
        "\n",
        "from skimage.transform import resize\n",
        "\n",
        "import tensorflow as tf\n",
        "import tensorflow.keras as keras\n",
        "from tensorflow.keras import layers\n",
        "from tensorflow.keras.preprocessing.image import ImageDataGenerator\n",
        "\n",
        "import pandas as pd\n",
        "import matplotlib.pyplot as plt\n",
        "import seaborn as sns"
      ]
    },
    {
      "cell_type": "markdown",
      "metadata": {
        "id": "rxTk1ctGpvnW"
      },
      "source": [
        "# Params"
      ]
    },
    {
      "cell_type": "code",
      "execution_count": 2,
      "metadata": {
        "id": "SLpJb-H9pxs_"
      },
      "outputs": [],
      "source": [
        "load_checkpoints = True\n",
        "\n",
        "modeltype = 'mobilenet'\n",
        "\n",
        "biased_ds = None\n",
        "nobias_ds = 'sick_ones_bendbias'\n",
        "\n",
        "epochs = 10\n",
        "learning_rate = 0.0001"
      ]
    },
    {
      "cell_type": "markdown",
      "metadata": {
        "id": "Ua-n5ADsde6b"
      },
      "source": [
        "# Setup and Load Datasets"
      ]
    },
    {
      "cell_type": "code",
      "execution_count": 3,
      "metadata": {
        "id": "TzbAMnMyeEru"
      },
      "outputs": [],
      "source": [
        "def load_dataframe(data_dir, dataset):\n",
        "  data_dir = data_dir / dataset\n",
        "  df = pd.read_json(data_dir / 'parameters.jsonl', lines=True)\n",
        "  df['filename'] = df['id'] + '.png'\n",
        "  df['ill'] = df['ill'].astype(int).astype(str)\n",
        "  return df\n",
        "\n",
        "def load_data_gens(trainval_datadir, test_datadir):\n",
        "  train_df = load_dataframe(trainval_datadir, 'train')\n",
        "  valid_df = load_dataframe(trainval_datadir, 'validation')\n",
        "  test_df = load_dataframe(test_datadir, 'test')\n",
        "\n",
        "  datagen = ImageDataGenerator(rescale=1./255)\n",
        "  train_generator = datagen.flow_from_dataframe(dataframe=train_df, directory=trainval_datadir / 'train', target_size=(128, 128),\n",
        "                                                x_col='filename', y_col='ill', batch_size=64, shuffle=True)\n",
        "  valid_generator = datagen.flow_from_dataframe(dataframe=valid_df, directory=trainval_datadir / 'validation', target_size=(128, 128),\n",
        "                                                x_col='filename', y_col='ill', batch_size=64, shuffle=False)\n",
        "  test_generator = datagen.flow_from_dataframe(dataframe=test_df, directory=test_datadir / 'test',  target_size=(128, 128),\n",
        "                                               x_col='filename', y_col='ill',\n",
        "                                               batch_size=64, shuffle=False)\n",
        "\n",
        "  return train_generator, valid_generator, test_generator"
      ]
    },
    {
      "cell_type": "code",
      "execution_count": 4,
      "metadata": {
        "colab": {
          "base_uri": "https://localhost:8080/"
        },
        "id": "eSBMiJ-ARVcd",
        "outputId": "53c54773-6094-451c-af0a-62f64c433754"
      },
      "outputs": [
        {
          "data": {
            "text/plain": [
              "PosixPath('/Users/djohnson/Library/CloudStorage/GoogleDrive-fortjay81@gmail.com/My Drive/two4two_sickones_models')"
            ]
          },
          "execution_count": 4,
          "metadata": {},
          "output_type": "execute_result"
        }
      ],
      "source": [
        "gdrive = Path('/Users/djohnson/Library/CloudStorage/GoogleDrive-fortjay81@gmail.com/My Drive')\n",
        "relative_model_path = \"two4two_sickones_models\"\n",
        "base_path = gdrive / relative_model_path\n",
        "\n",
        "output = gdrive / 'hcxai' / 'blocky_diagnosis'\n",
        "\n",
        "base_path"
      ]
    },
    {
      "cell_type": "code",
      "execution_count": 5,
      "metadata": {
        "colab": {
          "base_uri": "https://localhost:8080/"
        },
        "id": "HPi0wvbicrct",
        "outputId": "1b6538db-b47f-4f36-a70c-a890b5442457"
      },
      "outputs": [],
      "source": [
        "data_dir_sickones = keras.utils.get_file(\n",
        "    origin = \"file:///Users/djohnson/sciebo/1. Research/1. HCXAI/1. Projects/two4two_datasets/two4two_datasets.tar.gz\",\n",
        "    fname = 'two4two_datasets.tar.gz',\n",
        "    extract = True,\n",
        "    archive_format = 'tar'\n",
        ")\n",
        "data_dir_sickones = Path(data_dir_sickones)"
      ]
    },
    {
      "cell_type": "markdown",
      "metadata": {
        "id": "ReNR_Y0QProQ"
      },
      "source": [
        "## Load Biased and Unbiased datasets"
      ]
    },
    {
      "cell_type": "code",
      "execution_count": 6,
      "metadata": {
        "colab": {
          "base_uri": "https://localhost:8080/"
        },
        "id": "bn3D8znPQN-F",
        "outputId": "d8be8aeb-64e9-4172-a269-49de0351db5b"
      },
      "outputs": [
        {
          "data": {
            "text/plain": [
              "(PosixPath('/Users/djohnson/.keras/datasets/two4two_datasets/sick_ones_bendbias'),\n",
              " None)"
            ]
          },
          "execution_count": 6,
          "metadata": {},
          "output_type": "execute_result"
        }
      ],
      "source": [
        "nobias_dir = data_dir_sickones.with_suffix('').with_suffix('') / nobias_ds\n",
        "biased_dir = data_dir_sickones.with_suffix('').with_suffix('') / biased_ds if biased_ds is not None else None\n",
        "\n",
        "nobias_dir, biased_dir"
      ]
    },
    {
      "cell_type": "code",
      "execution_count": 7,
      "metadata": {
        "colab": {
          "base_uri": "https://localhost:8080/"
        },
        "id": "msUfBSYCRzNv",
        "outputId": "a01e7869-6a0b-48cb-ea43-c019091c89fd"
      },
      "outputs": [
        {
          "data": {
            "text/plain": [
              "(PosixPath('/Users/djohnson/Library/CloudStorage/GoogleDrive-fortjay81@gmail.com/My Drive/two4two_sickones_models/sick_ones_bendbias/mobilenet'),\n",
              " None)"
            ]
          },
          "execution_count": 7,
          "metadata": {},
          "output_type": "execute_result"
        }
      ],
      "source": [
        "nobias_model_path = base_path / nobias_ds / f'{modeltype}'\n",
        "biased_model_path = base_path / biased_ds / f'{modeltype}' if biased_ds is not None else None\n",
        "\n",
        "nobias_model_path, biased_model_path"
      ]
    },
    {
      "cell_type": "code",
      "execution_count": 8,
      "metadata": {
        "colab": {
          "base_uri": "https://localhost:8080/"
        },
        "id": "C5qJhHWOS3av",
        "outputId": "115445de-6201-435e-87f9-e99b6501b8fd"
      },
      "outputs": [
        {
          "data": {
            "text/plain": [
              "(True, False)"
            ]
          },
          "execution_count": 8,
          "metadata": {},
          "output_type": "execute_result"
        }
      ],
      "source": [
        "nobias_model_exists = os.path.exists(nobias_model_path)\n",
        "biased_model_exists = os.path.exists(biased_model_path) if biased_ds is not None else False\n",
        "\n",
        "nobias_model_exists, biased_model_exists"
      ]
    },
    {
      "cell_type": "code",
      "execution_count": 9,
      "metadata": {
        "id": "uODOD8uidxxU"
      },
      "outputs": [],
      "source": [
        "# Load Dataframes\n",
        "nobias_train_df,  nobias_valid_df, nobias_test_df = (load_dataframe(nobias_dir, 'train'),\n",
        "                                                     load_dataframe(nobias_dir, 'validation'),\n",
        "                                                     load_dataframe(nobias_dir, 'test'))\n",
        "nobias_train_df['sphere_diff'] = np.abs(nobias_train_df['spherical'] - nobias_train_df['ill_spherical'])\n",
        "nobias_valid_df['sphere_diff'] = np.abs(nobias_valid_df['spherical'] - nobias_valid_df['ill_spherical'])\n",
        "nobias_test_df['sphere_diff'] = np.abs(nobias_test_df['spherical'] - nobias_test_df['ill_spherical'])\n",
        "\n",
        "if biased_ds is not None:\n",
        "    biased_train_df,  biased_valid_df, biased_test_df = (load_dataframe(biased_dir, 'train'),\n",
        "                                                        load_dataframe(biased_dir, 'validation'),\n",
        "                                                        load_dataframe(biased_dir, 'test'))\n",
        "    biased_train_df['sphere_diff'] = np.abs(biased_train_df['spherical'] - biased_train_df['ill_spherical'])\n",
        "    biased_valid_df['sphere_diff'] = np.abs(biased_valid_df['spherical'] - biased_valid_df['ill_spherical'])\n",
        "    biased_test_df['sphere_diff'] = np.abs(biased_test_df['spherical'] - biased_test_df['ill_spherical'])"
      ]
    },
    {
      "cell_type": "code",
      "execution_count": 10,
      "metadata": {
        "colab": {
          "base_uri": "https://localhost:8080/"
        },
        "id": "Ttr_NsZDgPn2",
        "outputId": "949f8799-3457-480c-c3d5-5e72f7934211"
      },
      "outputs": [
        {
          "name": "stdout",
          "output_type": "stream",
          "text": [
            "Found 80000 validated image filenames belonging to 2 classes.\n",
            "Found 1000 validated image filenames belonging to 2 classes.\n",
            "Found 3000 validated image filenames belonging to 2 classes.\n"
          ]
        }
      ],
      "source": [
        "# Load Data Gens\n",
        "nobias_train_gen, nobias_valid_gen, nobias_test_gen = load_data_gens(nobias_dir, nobias_dir)\n",
        "biased_train_gen, biased_valid_gen, biased_test_gen = load_data_gens(biased_dir, biased_dir)if biased_ds is not None else None, None, None"
      ]
    },
    {
      "cell_type": "markdown",
      "metadata": {
        "id": "AiMdu2w_dj2O"
      },
      "source": [
        "# Model Loading and Evaluation"
      ]
    },
    {
      "cell_type": "code",
      "execution_count": 15,
      "metadata": {
        "id": "Lj_JL19gUabX"
      },
      "outputs": [],
      "source": [
        "def get_model(load_checkpoint: bool, model_filepath: Path, learning_rate: float):\n",
        "\n",
        "  if load_checkpoint:\n",
        "    model = keras.models.load_model(model_filepath)\n",
        "    print(f'loading existing checkpoint for mobilenet - {model_filepath}')\n",
        "  else:\n",
        "    print('Model does not exist or checkpoint not set to be loaded. Loading new mobilenet.')\n",
        "    base_model = keras.applications.MobileNetV2(\n",
        "        input_shape=(128, 128, 3),\n",
        "        alpha=1.0,\n",
        "        include_top=False,\n",
        "        weights=None,\n",
        "        input_tensor=None,\n",
        "        pooling='avg'\n",
        "    )\n",
        "\n",
        "    model = keras.Sequential([\n",
        "        base_model,\n",
        "        layers.Dense(2, activation=\"softmax\"),\n",
        "    ])\n",
        "\n",
        "    opt = keras.optimizers.Adam(learning_rate=learning_rate)\n",
        "    model.compile(loss=\"categorical_crossentropy\",\n",
        "                  optimizer=opt, metrics=[\"accuracy\"])\n",
        "\n",
        "  return model\n",
        "\n",
        "def get_simple_model(load_checkpoint: bool, model_filepath: Path, learning_rate: float):\n",
        "\n",
        "\n",
        "  if load_checkpoint:\n",
        "    model = keras.models.load_model(model_filepath)\n",
        "    print(f'loading existing checkpoint for simple net- {model_filepath}')\n",
        "  else:\n",
        "    print('Model does not exist or checkpoint not set to be loaded. Loading new simple net.')\n",
        "    model = keras.models.Sequential([\n",
        "        layers.Conv2D(32, kernel_size=(3, 3), activation=\"relu\"),\n",
        "        layers.MaxPooling2D(pool_size=(2, 2)),\n",
        "        layers.Conv2D(64, kernel_size=(3, 3), activation=\"relu\"),\n",
        "        layers.MaxPooling2D(pool_size=(2, 2)),\n",
        "        layers.Conv2D(64, kernel_size=(3, 3), activation=\"relu\"),\n",
        "        layers.MaxPooling2D(pool_size=(2, 2)),\n",
        "        layers.Conv2D(64, kernel_size=(3, 3), activation=\"relu\"),\n",
        "        layers.MaxPooling2D(pool_size=(2, 2)),\n",
        "        layers.Flatten(),\n",
        "        layers.Dropout(0.5),\n",
        "        layers.Dense(2, activation=\"softmax\"),\n",
        "    ])\n",
        "\n",
        "    opt = keras.optimizers.Adam(learning_rate=learning_rate)\n",
        "    model.compile(loss=\"categorical_crossentropy\",\n",
        "                  optimizer=opt, metrics=[\"accuracy\"])\n",
        "\n",
        "  return model"
      ]
    },
    {
      "cell_type": "code",
      "execution_count": 16,
      "metadata": {
        "id": "p6S4wQb_XpYp"
      },
      "outputs": [],
      "source": [
        "def eval(model, test_generator):\n",
        "\n",
        "  print(f'Evaluating model on test data')\n",
        "  return model.evaluate(test_generator)[1]"
      ]
    },
    {
      "cell_type": "markdown",
      "metadata": {
        "id": "GnDzvYfKdScq"
      },
      "source": [
        "## Load Model"
      ]
    },
    {
      "cell_type": "markdown",
      "metadata": {
        "id": "0xTK5UD3WYVy"
      },
      "source": [
        "### No Bias Model"
      ]
    },
    {
      "cell_type": "code",
      "execution_count": 17,
      "metadata": {
        "colab": {
          "base_uri": "https://localhost:8080/"
        },
        "id": "OdTfSs2XgJNc",
        "outputId": "16ebe744-cedc-45e9-c5d2-33618c65c54c"
      },
      "outputs": [
        {
          "name": "stdout",
          "output_type": "stream",
          "text": [
            "loading existing checkpoint for mobilenet - /Users/djohnson/Library/CloudStorage/GoogleDrive-fortjay81@gmail.com/My Drive/two4two_sickones_models/sick_ones_bendbias/mobilenet\n"
          ]
        }
      ],
      "source": [
        "if modeltype == 'mobilenet':\n",
        "  nobias_model = get_model(load_checkpoint=True,\n",
        "                           model_filepath=nobias_model_path,\n",
        "                           learning_rate=learning_rate)\n",
        "elif modeltype == 'simple':\n",
        "  nobias_model = get_simple_model(load_checkpoint=True,\n",
        "                                  model_filepath=nobias_model_path,\n",
        "                                  learning_rate=learning_rate)\n",
        "else:\n",
        "  print('Model type does not exist')\n",
        "  nobias_model = None"
      ]
    },
    {
      "cell_type": "code",
      "execution_count": 18,
      "metadata": {
        "colab": {
          "base_uri": "https://localhost:8080/"
        },
        "id": "mEYrq1B1ZrPw",
        "outputId": "04e9f19f-6dcd-4f56-a605-27b2bdbe8477"
      },
      "outputs": [
        {
          "name": "stdout",
          "output_type": "stream",
          "text": [
            "Model: \"sequential_1\"\n",
            "_________________________________________________________________\n",
            " Layer (type)                Output Shape              Param #   \n",
            "=================================================================\n",
            " mobilenetv2_1.00_128 (Func  (None, 1280)              2257984   \n",
            " tional)                                                         \n",
            "                                                                 \n",
            " dense_1 (Dense)             (None, 2)                 2562      \n",
            "                                                                 \n",
            "=================================================================\n",
            "Total params: 2260546 (8.62 MB)\n",
            "Trainable params: 2226434 (8.49 MB)\n",
            "Non-trainable params: 34112 (133.25 KB)\n",
            "_________________________________________________________________\n"
          ]
        }
      ],
      "source": [
        "nobias_model.summary()"
      ]
    },
    {
      "cell_type": "markdown",
      "metadata": {
        "id": "s_QTZllTWw8z"
      },
      "source": [
        "### Biased Model"
      ]
    },
    {
      "cell_type": "code",
      "execution_count": null,
      "metadata": {
        "colab": {
          "base_uri": "https://localhost:8080/"
        },
        "id": "ZTItBeS_W0lF",
        "outputId": "ef2505c4-d8fa-4182-dd50-ada9e9aec87c"
      },
      "outputs": [],
      "source": [
        "if modeltype == 'mobilenet':\n",
        "  biased_model = get_model(load_checkpoint=True,\n",
        "                           model_filepath=biased_model_path,\n",
        "                           learning_rate=learning_rate)\n",
        "elif modeltype == 'simple':\n",
        "  biased_model = get_simple_model(load_checkpoint=True,\n",
        "                                  model_filepath=biased_model_path,\n",
        "                                  learning_rate=learning_rate)\n",
        "else:\n",
        "  print('Model type does not exist')\n",
        "  biased_model = None"
      ]
    },
    {
      "cell_type": "code",
      "execution_count": null,
      "metadata": {
        "colab": {
          "base_uri": "https://localhost:8080/"
        },
        "id": "y9pNKME8W-YM",
        "outputId": "ebad2100-758b-49d7-c18a-15b6a979151a"
      },
      "outputs": [],
      "source": [
        "biased_model.summary()"
      ]
    },
    {
      "cell_type": "markdown",
      "metadata": {
        "id": "m3ezID58WQIr"
      },
      "source": [
        "## Eval  Model"
      ]
    },
    {
      "cell_type": "markdown",
      "metadata": {
        "id": "BJhM-E5SXxOK"
      },
      "source": [
        "### No Bias Model"
      ]
    },
    {
      "cell_type": "code",
      "execution_count": 20,
      "metadata": {
        "colab": {
          "base_uri": "https://localhost:8080/"
        },
        "id": "lj2I88s0d4gb",
        "outputId": "c1fd03c4-f1c6-4937-bc11-319f96965187"
      },
      "outputs": [
        {
          "name": "stdout",
          "output_type": "stream",
          "text": [
            "Evaluating model on test data\n",
            "47/47 [==============================] - 18s 352ms/step - loss: 0.3597 - accuracy: 0.8603\n",
            "ACC: 0.8603333234786987\n",
            "47/47 [==============================] - 20s 401ms/step\n"
          ]
        },
        {
          "data": {
            "text/plain": [
              "0.8603333333333333"
            ]
          },
          "execution_count": 20,
          "metadata": {},
          "output_type": "execute_result"
        }
      ],
      "source": [
        "# results on nobias test\n",
        "acc = eval(nobias_model, nobias_test_gen)\n",
        "print(f'ACC: {acc}')\n",
        "probs = nobias_model.predict(nobias_test_gen)\n",
        "preds = np.argmax(probs, axis=-1)\n",
        "\n",
        "nobias_test_df['nobias_pred'] = preds\n",
        "nobias_test_df['nobias_pred'] = nobias_test_df['nobias_pred'].astype(str)\n",
        "(nobias_test_df['nobias_pred'] == nobias_test_df['ill']).astype(int).mean()"
      ]
    },
    {
      "cell_type": "code",
      "execution_count": 25,
      "metadata": {
        "colab": {
          "base_uri": "https://localhost:8080/"
        },
        "id": "7ZI14flluOGX",
        "outputId": "b2a946cd-c00f-4ba5-e97f-26008d6aafe9"
      },
      "outputs": [
        {
          "name": "stdout",
          "output_type": "stream",
          "text": [
            "Evaluating model on test data\n",
            "47/47 [==============================] - 16s 343ms/step - loss: 0.4965 - accuracy: 0.7903\n",
            "ACC: 0.7903333306312561\n",
            "47/47 [==============================] - 17s 366ms/step\n"
          ]
        },
        {
          "data": {
            "text/plain": [
              "0.7903333333333333"
            ]
          },
          "execution_count": 25,
          "metadata": {},
          "output_type": "execute_result"
        }
      ],
      "source": [
        "# results on biased test\n",
        "acc = eval(nobias_model, biased_test_gen)\n",
        "print(f'ACC: {acc}')\n",
        "probs = nobias_model.predict(biased_test_gen)\n",
        "preds = np.argmax(probs, axis=-1)\n",
        "\n",
        "biased_test_df['nobias_pred'] = preds\n",
        "biased_test_df['nobias_pred'] = biased_test_df['nobias_pred'].astype(str)\n",
        "(biased_test_df['nobias_pred'] == biased_test_df['ill']).astype(int).mean()"
      ]
    },
    {
      "cell_type": "markdown",
      "metadata": {
        "id": "hXqESqmEX7vd"
      },
      "source": [
        "### Biased Model"
      ]
    },
    {
      "cell_type": "code",
      "execution_count": 26,
      "metadata": {
        "colab": {
          "base_uri": "https://localhost:8080/"
        },
        "id": "l6Kb0EcQbPOH",
        "outputId": "51c18d6f-1bd1-4704-d8a1-900ae53683ca"
      },
      "outputs": [
        {
          "name": "stdout",
          "output_type": "stream",
          "text": [
            "Evaluating model on test data\n",
            "47/47 [==============================] - 18s 356ms/step - loss: 0.5248 - accuracy: 0.7883\n",
            "ACC: 0.7883333563804626\n",
            "47/47 [==============================] - 18s 361ms/step\n"
          ]
        },
        {
          "data": {
            "text/plain": [
              "0.7883333333333333"
            ]
          },
          "execution_count": 26,
          "metadata": {},
          "output_type": "execute_result"
        }
      ],
      "source": [
        "# results on nobias test\n",
        "acc = eval(biased_model, nobias_test_gen)\n",
        "print(f'ACC: {acc}')\n",
        "probs = biased_model.predict(nobias_test_gen)\n",
        "preds = np.argmax(probs, axis=-1)\n",
        "\n",
        "nobias_test_df['biased_pred'] = preds\n",
        "nobias_test_df['biased_pred'] = nobias_test_df['biased_pred'].astype(str)\n",
        "(nobias_test_df['biased_pred'] == nobias_test_df['ill']).astype(int).mean()"
      ]
    },
    {
      "cell_type": "code",
      "execution_count": 27,
      "metadata": {
        "colab": {
          "base_uri": "https://localhost:8080/"
        },
        "id": "aiEPxBkXX7GZ",
        "outputId": "ce003a37-0155-42fa-ad37-6cec81130d63"
      },
      "outputs": [
        {
          "name": "stdout",
          "output_type": "stream",
          "text": [
            "Evaluating model on test data\n",
            "47/47 [==============================] - 17s 361ms/step - loss: 0.4196 - accuracy: 0.8243\n",
            "ACC: 0.8243333101272583\n",
            "47/47 [==============================] - 17s 365ms/step\n"
          ]
        },
        {
          "data": {
            "text/plain": [
              "0.8243333333333334"
            ]
          },
          "execution_count": 27,
          "metadata": {},
          "output_type": "execute_result"
        }
      ],
      "source": [
        "# results on biased test\n",
        "acc = eval(biased_model, biased_test_gen)\n",
        "print(f'ACC: {acc}')\n",
        "probs = biased_model.predict(biased_test_gen)\n",
        "preds = np.argmax(probs, axis=-1)\n",
        "\n",
        "biased_test_df['biased_pred'] = preds\n",
        "biased_test_df['biased_pred'] = biased_test_df['biased_pred'].astype(str)\n",
        "(biased_test_df['biased_pred'] == biased_test_df['ill']).astype(int).mean()"
      ]
    },
    {
      "cell_type": "markdown",
      "metadata": {
        "id": "J2QsD51Yfm2y"
      },
      "source": [
        "# Explanations"
      ]
    },
    {
      "cell_type": "markdown",
      "metadata": {
        "id": "GI4A4VOXi7ow"
      },
      "source": [
        "## Generate Explanation Dataset\n",
        "\n",
        "Select 20 images to represent challenging decision making tasks but where there is a clear final decision.\n",
        "\n",
        "(for now from nobias dataset with biased model predictions)\n",
        "\n",
        "- 16 - Correct predictions\n",
        "- 4 - Incorrect predictions\n",
        "\n",
        "represents accuracy of model (around $80\\%$)\n",
        "\n",
        "(actually I think this does not matter.  a small sample of 20 samples will be the same as teh original model, especially in hard cases.\n",
        "\n",
        "Will instead pick 6 total from each category\n",
        "\n",
        "- Correct Predictions (3 each Correct and 3 Incorrect)\n",
        "  - medhigh sphere diff and lowmed bend (**overlap** - ill and notill)\n",
        "  - lowmed sphere diff but medhigh bend (**overlap** - ill and notill)\n",
        "  - medhigh sphere diff and medhigh bend (**easy** - ill)\n",
        "  - lowmed sphere diff and lowmed bend (**easy** - ill)\n",
        "  - lowmed sphere diff but (1,3) changed pieces (**slightly difficult** - does XAI help show ambiguous pieces)\n"
      ]
    },
    {
      "cell_type": "code",
      "execution_count": 21,
      "metadata": {
        "id": "BUjjk779crq5"
      },
      "outputs": [],
      "source": [
        "def display_images(df, n_rows, n_cols, img_dir, title, random_state=0):\n",
        "  \"\"\" Function to display images in a grid randomly selected from a dataframe of images.\n",
        "\n",
        "  Args:\n",
        "    df (pd.DataFrame): dataframe of images\n",
        "    n_rows (int): number of rows in the grid\n",
        "    n_cols (int): number of columns in the grid\n",
        "    title (str): title of the plot\n",
        "    random_state (int): random state for reproducibility\n",
        "  \"\"\"\n",
        "\n",
        "  if n_rows == 0 and n_cols == 0:\n",
        "    print(f'Not data to display for Figure - {title}')\n",
        "    return\n",
        "\n",
        "  if n_rows * n_cols < len(df):\n",
        "    df = df.sample(n_rows * n_cols, random_state=random_state)\n",
        "\n",
        "  figsize = (n_cols * 2, n_rows*2.5)\n",
        "  print(figsize)\n",
        "\n",
        "  test_images = np.array([Image.open(p).convert('RGB') for p in img_dir / df['filename']]) * 1. / 255\n",
        "  fig, axes = plt.subplots(n_rows, n_cols, figsize=figsize)\n",
        "  axes = np.array(axes)\n",
        "  for i, (ax, idx) in enumerate(zip(axes.flat, df.index)):\n",
        "    ax.imshow(test_images[i])\n",
        "    ax.set_title(f'Img Idx {idx}')\n",
        "    ax.axis('off')\n",
        "\n",
        "  fig.suptitle(title)\n",
        "  fig.tight_layout()"
      ]
    },
    {
      "cell_type": "markdown",
      "metadata": {
        "id": "0UZ8CuXOZxal"
      },
      "source": [
        "### Correct Samples Selection\n"
      ]
    },
    {
      "cell_type": "code",
      "execution_count": 22,
      "metadata": {},
      "outputs": [],
      "source": [
        "# High Bending\n",
        "# ill quantiles = .30, .50\n",
        "# not ill quantiles = .80, .90\n",
        "\n",
        "# high sphere diff\n",
        "# ill quantiles = .50, .75\n",
        "# not ill quantiles = .75, .99\n",
        "\n",
        "# Low Bending\n",
        "# ill quantiles = .05, .10\n",
        "# not ill quantiles = .50, .62\n",
        "\n",
        "# Low Sphere Diff\n",
        "# ill quantiles = .17, .22\n",
        "# not ill quantiles = .27, .37\n",
        "\n",
        "def get_condition_data(df, is_ill):\n",
        "  return dict(\n",
        "    medhigh_bend = (abs(df['bending']).quantile(0.30 if is_ill else 0.80), abs(df['bending']).quantile(0.50 if is_ill else 0.90)),\n",
        "    medhigh_diff = (abs(df['sphere_diff']).quantile(0.50 if is_ill else 0.75), abs(df['sphere_diff']).quantile(0.75 if is_ill else 0.99)),\n",
        "\n",
        "    lowmed_bend = (abs(df['bending']).quantile(0.05 if is_ill else 0.55), abs(df['bending']).quantile(0.15 if is_ill else 0.67)),\n",
        "    lowmed_diff = (abs(df['sphere_diff']).quantile(0.15 if is_ill else 0.29), abs(df['sphere_diff']).quantile(0.24 if is_ill else 0.39)),\n",
        "  )\n",
        "\n",
        "# def get_condition_data(df, is_ill):\n",
        "#   return dict(\n",
        "#     medhigh_bend = (abs(df['bending']).quantile(0.60), abs(df['bending']).quantile(0.70)),\n",
        "#     medhigh_diff = (abs(df['sphere_diff']).quantile(0.60), abs(df['sphere_diff']).quantile(.70)),\n",
        "\n",
        "#     lowmed_bend = (abs(df['bending']).quantile(0.10), abs(df['bending']).quantile(0.20)),\n",
        "#     lowmed_diff = (abs(df['sphere_diff']).quantile(0.10), abs(df['sphere_diff']).quantile(0.20)),\n",
        "#   )"
      ]
    },
    {
      "cell_type": "code",
      "execution_count": 412,
      "metadata": {
        "id": "EilAaWypiWTh"
      },
      "outputs": [],
      "source": [
        "# setup conditions\n",
        "def get_xai_conds(df, cond_data):\n",
        "\n",
        "  \"\"\"\n",
        "    - High sphere diff and low bend (**overlap** - ill and notill)\n",
        "    - low sphere diff but high bend (**overlap** - ill and notill)\n",
        "    - high sphere diff and high bend (**easy** - ill)\n",
        "    - low sphere diff and low bend (**easy** - notill)\n",
        "    - low sphere diff but (1,3) changed pieces (**slightly difficult** - does XAI help show ambiguous pieces)\n",
        "  \"\"\"\n",
        "\n",
        "  cond_medhigh_bend = (abs(df['bending']) > cond_data['medhigh_bend'][0]) & (abs(df['bending']) < cond_data['medhigh_bend'][1])\n",
        "  cond_medhigh_diff = (abs(df['sphere_diff']) > cond_data['medhigh_diff'][0]) & (abs(df['sphere_diff']) < cond_data['medhigh_diff'][1])\n",
        "\n",
        "  cond_lowmed_bend = (abs(df['bending']) > cond_data['lowmed_bend'][0]) & (abs(df['bending']) < cond_data['lowmed_bend'][1])\n",
        "  cond_lowmed_diff = (abs(df['sphere_diff']) > cond_data['lowmed_diff'][0]) & (abs(df['sphere_diff']) < cond_data['lowmed_diff'][1])\n",
        "\n",
        "  num_diff_is2 = (df['num_diff'] == 2)\n",
        "\n",
        "  cond1 = (cond_medhigh_diff & cond_lowmed_bend & num_diff_is2)\n",
        "  cond2 = (cond_lowmed_diff & cond_medhigh_bend & num_diff_is2)\n",
        "  cond3 = (cond_medhigh_diff & cond_medhigh_bend & num_diff_is2)\n",
        "  cond4 = (cond_lowmed_diff & cond_lowmed_bend & num_diff_is2)\n",
        "  cond5 = (cond_lowmed_diff & cond_lowmed_bend)\n",
        "\n",
        "  return cond1, cond2, cond3, cond4, cond5"
      ]
    },
    {
      "cell_type": "code",
      "execution_count": 436,
      "metadata": {
        "id": "fxN6gwEAvvA8"
      },
      "outputs": [],
      "source": [
        "ill_rows = nobias_test_df['ill'] == '1'\n",
        "notill_rows = nobias_test_df['ill'] == '0'\n",
        "\n",
        "correct_rows = nobias_test_df['biased_pred'] == nobias_test_df['ill']\n",
        "incorrect_rows = nobias_test_df['biased_pred'] != nobias_test_df['ill']\n",
        "\n",
        "num_diff_is1 = (nobias_test_df['num_diff'] == 1)\n",
        "num_diff_is3 = (nobias_test_df['num_diff'] == 3)\n",
        "\n",
        "cond_data_ill = get_condition_data(nobias_test_df[ill_rows], is_ill=True)\n",
        "cond_data_notill = get_condition_data(nobias_test_df[notill_rows], is_ill=False)\n",
        "\n",
        "cond1_ill, cond2_ill, cond3_ill, cond4_ill, cond5_ill = get_xai_conds(nobias_test_df[ill_rows], cond_data_ill)\n",
        "cond1_notill, cond2_notill, cond3_notill, cond4_notill, cond5_notill = get_xai_conds(nobias_test_df[notill_rows], cond_data_notill)\n",
        "\n",
        "cond1 = (cond1_ill | cond1_notill)\n",
        "cond2 = (cond2_ill | cond2_notill)\n",
        "cond3 = (cond3_ill | cond3_notill)\n",
        "cond4 = (cond4_ill | cond4_notill)\n",
        "cond5 = (cond5_ill | cond5_notill)\n"
      ]
    },
    {
      "cell_type": "code",
      "execution_count": 414,
      "metadata": {},
      "outputs": [
        {
          "name": "stdout",
          "output_type": "stream",
          "text": [
            "High Sphere Diff - Similar but distinct - Appears Ill\n",
            "Ill Range: 0.5260 - 0.6222\n",
            "Not Ill Range: 0.4088 - 0.4486\n"
          ]
        }
      ],
      "source": [
        "print('High Sphere Diff - Similar but distinct - Appears Ill')\n",
        "print(f\"Ill Range: {abs(nobias_test_df[ill_rows]['sphere_diff']).quantile(.50):.04f} - {abs(nobias_test_df[ill_rows]['sphere_diff']).quantile(.75):.04f}\")\n",
        "print(f\"Not Ill Range: {abs(nobias_test_df[notill_rows]['sphere_diff']).quantile(.75):.04f} - {abs(nobias_test_df[notill_rows]['sphere_diff']).quantile(.99):.04f}\")\n",
        "\n",
        "# high sphere diff\n",
        "# ill quantiles = .50, .75\n",
        "# not ill quantiles = .75, .99"
      ]
    },
    {
      "cell_type": "code",
      "execution_count": 415,
      "metadata": {},
      "outputs": [
        {
          "name": "stdout",
          "output_type": "stream",
          "text": [
            "High Bending - Similar but distint - Appears Ill\n",
            "Ill Range: 0.2653 - 0.3038\n",
            "Not Ill Range: 0.2027 - 0.2437\n"
          ]
        }
      ],
      "source": [
        "print('High Bending - Similar but distint - Appears Ill')\n",
        "print(f\"Ill Range: {abs(nobias_test_df[ill_rows]['bending']).quantile(.30):.04f} - {abs(nobias_test_df[ill_rows]['bending']).quantile(.50):.04f}\")\n",
        "print(f\"Not Ill Range: {abs(nobias_test_df[notill_rows]['bending']).quantile(.80):.04f} - {abs(nobias_test_df[notill_rows]['bending']).quantile(.90):.04f}\")\n",
        "\n",
        "# High Bending\n",
        "# ill quantiles = .30, .50\n",
        "# not ill quantiles = .80, .90"
      ]
    },
    {
      "cell_type": "code",
      "execution_count": 416,
      "metadata": {},
      "outputs": [
        {
          "name": "stdout",
          "output_type": "stream",
          "text": [
            "Low Sphere Diff - Similar but distint - Appears Not Ill\n",
            "Ill Range: 0.3236 - 0.3726\n",
            "Not Ill Range: 0.2640 - 0.3107\n"
          ]
        }
      ],
      "source": [
        "print('Low Sphere Diff - Similar but distint - Appears Not Ill')\n",
        "print(f\"Ill Range: {abs(nobias_test_df[ill_rows]['sphere_diff']).quantile(.17):.04f} - {abs(nobias_test_df[ill_rows]['sphere_diff']).quantile(.22):.04f}\")\n",
        "print(f\"Not Ill Range: {abs(nobias_test_df[notill_rows]['sphere_diff']).quantile(.27):.04f} - {abs(nobias_test_df[notill_rows]['sphere_diff']).quantile(.37):.04f}\")\n",
        "\n",
        "# Low Sphere Diff\n",
        "# ill quantiles = .17, .22\n",
        "# not ill quantiles = .27, .37"
      ]
    },
    {
      "cell_type": "code",
      "execution_count": 417,
      "metadata": {},
      "outputs": [
        {
          "name": "stdout",
          "output_type": "stream",
          "text": [
            "Low Bending - Similar but distint - Appears Ill\n",
            "Ill Range: 0.1622 - 0.1935\n",
            "Not Ill Range: 0.1238 - 0.1544\n"
          ]
        }
      ],
      "source": [
        "print('Low Bending - Similar but distint - Appears Ill')\n",
        "print(f\"Ill Range: {abs(nobias_test_df[ill_rows]['bending']).quantile(.05):.04f} - {abs(nobias_test_df[ill_rows]['bending']).quantile(.10):.04f}\")\n",
        "print(f\"Not Ill Range: {abs(nobias_test_df[notill_rows]['bending']).quantile(.50):.04f} - {abs(nobias_test_df[notill_rows]['bending']).quantile(.62):.04f}\")\n",
        "\n",
        "# Low Bending\n",
        "# ill quantiles = .05, .10\n",
        "# not ill quantiles = .50, .62"
      ]
    },
    {
      "cell_type": "code",
      "execution_count": 437,
      "metadata": {
        "id": "QmQF3JIwZCWb"
      },
      "outputs": [],
      "source": [
        "test_df = nobias_test_df[cond1| cond2 | cond3 | cond4 | (cond5 & num_diff_is1) | (cond5 & num_diff_is3)]\n",
        "\n",
        "correct_rows = test_df['nobias_pred'] == test_df['ill']\n",
        "incorrect_rows = test_df['nobias_pred'] != test_df['ill']\n",
        "\n",
        "ill_rows = test_df['ill'] == '1'\n",
        "notill_rows = test_df['ill'] == '0'\n",
        "\n",
        "num_diff_is1 = (test_df['num_diff'] == 1)\n",
        "num_diff_is3 = (test_df['num_diff'] == 3)\n",
        "\n",
        "cond1_ill, cond2_ill, cond3_ill, cond4_ill, cond5_ill = get_xai_conds(test_df[ill_rows], cond_data_ill)\n",
        "cond1_notill, cond2_notill, cond3_notill, cond4_notill, cond5_notill = get_xai_conds(test_df[notill_rows], cond_data_notill)\n",
        "\n",
        "cond1 = (cond1_ill | cond1_notill)\n",
        "cond2 = (cond2_ill | cond2_notill)\n",
        "cond3 = (cond3_ill | cond3_notill)\n",
        "cond4 = (cond4_ill | cond4_notill)\n",
        "cond5 = (cond5_ill | cond5_notill)"
      ]
    },
    {
      "cell_type": "code",
      "execution_count": 438,
      "metadata": {
        "colab": {
          "base_uri": "https://localhost:8080/"
        },
        "id": "pFj_Wx-xVvoR",
        "outputId": "d7bf8ef7-008d-46dd-ee66-568837c1ea12"
      },
      "outputs": [
        {
          "data": {
            "text/plain": [
              "(0.5979381443298969, 0.7010309278350515)"
            ]
          },
          "execution_count": 438,
          "metadata": {},
          "output_type": "execute_result"
        }
      ],
      "source": [
        "((test_df['biased_pred'] == test_df['ill']).astype(int).mean(),\n",
        "  (test_df['nobias_pred'] == test_df['ill']).astype(int).mean())"
      ]
    },
    {
      "cell_type": "code",
      "execution_count": 439,
      "metadata": {
        "id": "gmR6fr1Iwbq2"
      },
      "outputs": [],
      "source": [
        "def print_cond_stats(cond, title):\n",
        "  print(title)\n",
        "  print('Ill',\n",
        "        abs(test_df[cond & ill_rows]['sphere_diff']).mean(),\n",
        "        abs(test_df[cond & ill_rows]['bending']).mean(),\n",
        "        abs(test_df[cond & ill_rows]['num_diff']).mean(),\n",
        "        abs(test_df[cond & ill_rows]['num_diff']).count()\n",
        "        )\n",
        "  print('Not Ill',\n",
        "        abs(test_df[cond & notill_rows]['sphere_diff']).mean(),\n",
        "        abs(test_df[cond & notill_rows]['bending']).mean(),\n",
        "        abs(test_df[cond & notill_rows]['num_diff']).mean(),\n",
        "        abs(test_df[cond & notill_rows]['num_diff']).count()\n",
        "        )\n",
        "  print('\\n')\n"
      ]
    },
    {
      "cell_type": "code",
      "execution_count": 440,
      "metadata": {
        "colab": {
          "base_uri": "https://localhost:8080/"
        },
        "id": "-uITWdATxCUZ",
        "outputId": "fa841dc6-e347-40d6-97ae-05edbebbadb0"
      },
      "outputs": [
        {
          "name": "stdout",
          "output_type": "stream",
          "text": [
            "Correct Condition 1 - High sphere diff and low bend\n",
            "Ill 0.580143457338663 0.20011069303968546 2.0 9\n",
            "Not Ill nan nan nan 0\n",
            "\n",
            "\n",
            "Correct Condition 2 - low sphere diff but high bend\n",
            "Ill 0.3467956836687328 0.28290220625212653 2.0 10\n",
            "Not Ill nan nan nan 0\n",
            "\n",
            "\n",
            "Correct Condition 3 - high sphere diff and high bend\n",
            "Ill 0.58499426971383 0.2863408757291168 2.0 39\n",
            "Not Ill nan nan nan 0\n",
            "\n",
            "\n",
            "Correct Condition 4 - low sphere diff and low bend\n",
            "Ill 0.35139012474888304 0.200484473839025 2.0 5\n",
            "Not Ill nan nan nan 0\n",
            "\n",
            "\n",
            "low sphere diff but (1,3) changed pieces\n",
            "Ill 0.3476322254847591 0.20218957059738502 3.0 5\n",
            "Not Ill nan nan nan 0\n",
            "\n",
            "\n"
          ]
        }
      ],
      "source": [
        "\"\"\"\n",
        "    - High sphere diff and low bend (**overlap** - ill and notill)\n",
        "    - low sphere diff but high bend (**overlap** - ill and notill)\n",
        "    - high sphere diff and high bend (**easy** - ill)\n",
        "    - low sphere diff and low bend (**easy** - notill)\n",
        "    - low sphere diff but (1,3) changed pieces (**slightly difficult** - does XAI help show ambiguous pieces)\n",
        "\"\"\"\n",
        "\n",
        "print_cond_stats((correct_rows & cond1), 'Correct Condition 1 - High sphere diff and low bend')\n",
        "print_cond_stats((correct_rows & cond2), 'Correct Condition 2 - low sphere diff but high bend')\n",
        "print_cond_stats((correct_rows & cond3), 'Correct Condition 3 - high sphere diff and high bend')\n",
        "print_cond_stats((correct_rows & cond4), 'Correct Condition 4 - low sphere diff and low bend')\n",
        "print_cond_stats((correct_rows & cond5 & (num_diff_is1 | num_diff_is3)), 'low sphere diff but (1,3) changed pieces')"
      ]
    },
    {
      "cell_type": "code",
      "execution_count": 428,
      "metadata": {},
      "outputs": [],
      "source": [
        "correct_samples = [test_df[correct_rows & cond1_ill].sample(2),\n",
        "                   test_df[correct_rows & cond1_notill].sample(2),\n",
        "                   test_df[correct_rows & cond2_ill].sample(2),\n",
        "                   test_df[correct_rows & cond2_notill].sample(2),\n",
        "                   test_df[correct_rows & cond3_ill].sample(2),\n",
        "                   test_df[correct_rows & cond3_notill].sample(2),\n",
        "                   test_df[correct_rows & cond4_ill].sample(2),\n",
        "                   test_df[correct_rows & cond4_notill].sample(2),\n",
        "                   test_df[correct_rows & cond5_ill].sample(2),\n",
        "                   test_df[correct_rows & cond5_notill].sample(2),\n",
        "                  ]\n",
        "\n",
        "xai_correct_df = pd.concat(correct_samples)"
      ]
    },
    {
      "cell_type": "code",
      "execution_count": 435,
      "metadata": {},
      "outputs": [
        {
          "data": {
            "text/html": [
              "<div>\n",
              "<style scoped>\n",
              "    .dataframe tbody tr th:only-of-type {\n",
              "        vertical-align: middle;\n",
              "    }\n",
              "\n",
              "    .dataframe tbody tr th {\n",
              "        vertical-align: top;\n",
              "    }\n",
              "\n",
              "    .dataframe thead tr th {\n",
              "        text-align: left;\n",
              "    }\n",
              "\n",
              "    .dataframe thead tr:last-of-type th {\n",
              "        text-align: right;\n",
              "    }\n",
              "</style>\n",
              "<table border=\"1\" class=\"dataframe\">\n",
              "  <thead>\n",
              "    <tr>\n",
              "      <th></th>\n",
              "      <th colspan=\"8\" halign=\"left\">spherical</th>\n",
              "      <th colspan=\"2\" halign=\"left\">ill_spherical</th>\n",
              "      <th>...</th>\n",
              "      <th colspan=\"2\" halign=\"left\">original_id</th>\n",
              "      <th colspan=\"8\" halign=\"left\">sphere_diff</th>\n",
              "    </tr>\n",
              "    <tr>\n",
              "      <th></th>\n",
              "      <th>count</th>\n",
              "      <th>mean</th>\n",
              "      <th>std</th>\n",
              "      <th>min</th>\n",
              "      <th>25%</th>\n",
              "      <th>50%</th>\n",
              "      <th>75%</th>\n",
              "      <th>max</th>\n",
              "      <th>count</th>\n",
              "      <th>mean</th>\n",
              "      <th>...</th>\n",
              "      <th>75%</th>\n",
              "      <th>max</th>\n",
              "      <th>count</th>\n",
              "      <th>mean</th>\n",
              "      <th>std</th>\n",
              "      <th>min</th>\n",
              "      <th>25%</th>\n",
              "      <th>50%</th>\n",
              "      <th>75%</th>\n",
              "      <th>max</th>\n",
              "    </tr>\n",
              "    <tr>\n",
              "      <th>ill</th>\n",
              "      <th></th>\n",
              "      <th></th>\n",
              "      <th></th>\n",
              "      <th></th>\n",
              "      <th></th>\n",
              "      <th></th>\n",
              "      <th></th>\n",
              "      <th></th>\n",
              "      <th></th>\n",
              "      <th></th>\n",
              "      <th></th>\n",
              "      <th></th>\n",
              "      <th></th>\n",
              "      <th></th>\n",
              "      <th></th>\n",
              "      <th></th>\n",
              "      <th></th>\n",
              "      <th></th>\n",
              "      <th></th>\n",
              "      <th></th>\n",
              "      <th></th>\n",
              "    </tr>\n",
              "  </thead>\n",
              "  <tbody>\n",
              "    <tr>\n",
              "      <th>0</th>\n",
              "      <td>9.0</td>\n",
              "      <td>0.476861</td>\n",
              "      <td>0.306171</td>\n",
              "      <td>0.007772</td>\n",
              "      <td>0.246049</td>\n",
              "      <td>0.469325</td>\n",
              "      <td>0.741008</td>\n",
              "      <td>0.829653</td>\n",
              "      <td>9.0</td>\n",
              "      <td>0.449165</td>\n",
              "      <td>...</td>\n",
              "      <td>NaN</td>\n",
              "      <td>NaN</td>\n",
              "      <td>9.0</td>\n",
              "      <td>0.295769</td>\n",
              "      <td>0.012410</td>\n",
              "      <td>0.275148</td>\n",
              "      <td>0.292025</td>\n",
              "      <td>0.302190</td>\n",
              "      <td>0.304890</td>\n",
              "      <td>0.308328</td>\n",
              "    </tr>\n",
              "    <tr>\n",
              "      <th>1</th>\n",
              "      <td>4.0</td>\n",
              "      <td>0.387284</td>\n",
              "      <td>0.363394</td>\n",
              "      <td>0.084367</td>\n",
              "      <td>0.186813</td>\n",
              "      <td>0.277101</td>\n",
              "      <td>0.477572</td>\n",
              "      <td>0.910565</td>\n",
              "      <td>4.0</td>\n",
              "      <td>0.541095</td>\n",
              "      <td>...</td>\n",
              "      <td>NaN</td>\n",
              "      <td>NaN</td>\n",
              "      <td>4.0</td>\n",
              "      <td>0.304174</td>\n",
              "      <td>0.012578</td>\n",
              "      <td>0.287875</td>\n",
              "      <td>0.297512</td>\n",
              "      <td>0.306884</td>\n",
              "      <td>0.313546</td>\n",
              "      <td>0.315051</td>\n",
              "    </tr>\n",
              "  </tbody>\n",
              "</table>\n",
              "<p>2 rows × 112 columns</p>\n",
              "</div>"
            ],
            "text/plain": [
              "    spherical                                                              \\\n",
              "        count      mean       std       min       25%       50%       75%   \n",
              "ill                                                                         \n",
              "0         9.0  0.476861  0.306171  0.007772  0.246049  0.469325  0.741008   \n",
              "1         4.0  0.387284  0.363394  0.084367  0.186813  0.277101  0.477572   \n",
              "\n",
              "              ill_spherical            ... original_id     sphere_diff  \\\n",
              "          max         count      mean  ...         75% max       count   \n",
              "ill                                    ...                               \n",
              "0    0.829653           9.0  0.449165  ...         NaN NaN         9.0   \n",
              "1    0.910565           4.0  0.541095  ...         NaN NaN         4.0   \n",
              "\n",
              "                                                                           \n",
              "         mean       std       min       25%       50%       75%       max  \n",
              "ill                                                                        \n",
              "0    0.295769  0.012410  0.275148  0.292025  0.302190  0.304890  0.308328  \n",
              "1    0.304174  0.012578  0.287875  0.297512  0.306884  0.313546  0.315051  \n",
              "\n",
              "[2 rows x 112 columns]"
            ]
          },
          "execution_count": 435,
          "metadata": {},
          "output_type": "execute_result"
        }
      ],
      "source": [
        "test_df[cond2_notill].groupby(['ill']).describe()"
      ]
    },
    {
      "cell_type": "code",
      "execution_count": 433,
      "metadata": {},
      "outputs": [
        {
          "data": {
            "text/html": [
              "<div>\n",
              "<style scoped>\n",
              "    .dataframe tbody tr th:only-of-type {\n",
              "        vertical-align: middle;\n",
              "    }\n",
              "\n",
              "    .dataframe tbody tr th {\n",
              "        vertical-align: top;\n",
              "    }\n",
              "\n",
              "    .dataframe thead tr th {\n",
              "        text-align: left;\n",
              "    }\n",
              "\n",
              "    .dataframe thead tr:last-of-type th {\n",
              "        text-align: right;\n",
              "    }\n",
              "</style>\n",
              "<table border=\"1\" class=\"dataframe\">\n",
              "  <thead>\n",
              "    <tr>\n",
              "      <th></th>\n",
              "      <th colspan=\"8\" halign=\"left\">spherical</th>\n",
              "      <th colspan=\"2\" halign=\"left\">ill_spherical</th>\n",
              "      <th>...</th>\n",
              "      <th colspan=\"2\" halign=\"left\">original_id</th>\n",
              "      <th colspan=\"8\" halign=\"left\">sphere_diff</th>\n",
              "    </tr>\n",
              "    <tr>\n",
              "      <th></th>\n",
              "      <th>count</th>\n",
              "      <th>mean</th>\n",
              "      <th>std</th>\n",
              "      <th>min</th>\n",
              "      <th>25%</th>\n",
              "      <th>50%</th>\n",
              "      <th>75%</th>\n",
              "      <th>max</th>\n",
              "      <th>count</th>\n",
              "      <th>mean</th>\n",
              "      <th>...</th>\n",
              "      <th>75%</th>\n",
              "      <th>max</th>\n",
              "      <th>count</th>\n",
              "      <th>mean</th>\n",
              "      <th>std</th>\n",
              "      <th>min</th>\n",
              "      <th>25%</th>\n",
              "      <th>50%</th>\n",
              "      <th>75%</th>\n",
              "      <th>max</th>\n",
              "    </tr>\n",
              "    <tr>\n",
              "      <th>ill</th>\n",
              "      <th></th>\n",
              "      <th></th>\n",
              "      <th></th>\n",
              "      <th></th>\n",
              "      <th></th>\n",
              "      <th></th>\n",
              "      <th></th>\n",
              "      <th></th>\n",
              "      <th></th>\n",
              "      <th></th>\n",
              "      <th></th>\n",
              "      <th></th>\n",
              "      <th></th>\n",
              "      <th></th>\n",
              "      <th></th>\n",
              "      <th></th>\n",
              "      <th></th>\n",
              "      <th></th>\n",
              "      <th></th>\n",
              "      <th></th>\n",
              "      <th></th>\n",
              "    </tr>\n",
              "  </thead>\n",
              "  <tbody>\n",
              "    <tr>\n",
              "      <th>0</th>\n",
              "      <td>1.0</td>\n",
              "      <td>0.772533</td>\n",
              "      <td>NaN</td>\n",
              "      <td>0.772533</td>\n",
              "      <td>0.772533</td>\n",
              "      <td>0.772533</td>\n",
              "      <td>0.772533</td>\n",
              "      <td>0.772533</td>\n",
              "      <td>1.0</td>\n",
              "      <td>0.480157</td>\n",
              "      <td>...</td>\n",
              "      <td>NaN</td>\n",
              "      <td>NaN</td>\n",
              "      <td>1.0</td>\n",
              "      <td>0.292376</td>\n",
              "      <td>NaN</td>\n",
              "      <td>0.292376</td>\n",
              "      <td>0.292376</td>\n",
              "      <td>0.292376</td>\n",
              "      <td>0.292376</td>\n",
              "      <td>0.292376</td>\n",
              "    </tr>\n",
              "    <tr>\n",
              "      <th>1</th>\n",
              "      <td>1.0</td>\n",
              "      <td>0.333241</td>\n",
              "      <td>NaN</td>\n",
              "      <td>0.333241</td>\n",
              "      <td>0.333241</td>\n",
              "      <td>0.333241</td>\n",
              "      <td>0.333241</td>\n",
              "      <td>0.333241</td>\n",
              "      <td>1.0</td>\n",
              "      <td>0.648293</td>\n",
              "      <td>...</td>\n",
              "      <td>NaN</td>\n",
              "      <td>NaN</td>\n",
              "      <td>1.0</td>\n",
              "      <td>0.315051</td>\n",
              "      <td>NaN</td>\n",
              "      <td>0.315051</td>\n",
              "      <td>0.315051</td>\n",
              "      <td>0.315051</td>\n",
              "      <td>0.315051</td>\n",
              "      <td>0.315051</td>\n",
              "    </tr>\n",
              "  </tbody>\n",
              "</table>\n",
              "<p>2 rows × 112 columns</p>\n",
              "</div>"
            ],
            "text/plain": [
              "    spherical                                                                  \\\n",
              "        count      mean std       min       25%       50%       75%       max   \n",
              "ill                                                                             \n",
              "0         1.0  0.772533 NaN  0.772533  0.772533  0.772533  0.772533  0.772533   \n",
              "1         1.0  0.333241 NaN  0.333241  0.333241  0.333241  0.333241  0.333241   \n",
              "\n",
              "    ill_spherical            ... original_id     sphere_diff                \\\n",
              "            count      mean  ...         75% max       count      mean std   \n",
              "ill                          ...                                             \n",
              "0             1.0  0.480157  ...         NaN NaN         1.0  0.292376 NaN   \n",
              "1             1.0  0.648293  ...         NaN NaN         1.0  0.315051 NaN   \n",
              "\n",
              "                                                       \n",
              "          min       25%       50%       75%       max  \n",
              "ill                                                    \n",
              "0    0.292376  0.292376  0.292376  0.292376  0.292376  \n",
              "1    0.315051  0.315051  0.315051  0.315051  0.315051  \n",
              "\n",
              "[2 rows x 112 columns]"
            ]
          },
          "execution_count": 433,
          "metadata": {},
          "output_type": "execute_result"
        }
      ],
      "source": [
        "test_df[correct_rows & cond2_notill].sample(2).groupby(['ill']).describe()"
      ]
    },
    {
      "cell_type": "code",
      "execution_count": null,
      "metadata": {
        "colab": {
          "base_uri": "https://localhost:8080/",
          "height": 387
        },
        "id": "qJUswqxqZo9-",
        "outputId": "6acf58e1-b10a-489f-a530-62a691031f4c"
      },
      "outputs": [],
      "source": [
        "# Cond 1 - Correct Ill Examples\n",
        "display_images(nobias_test_df[(correct_rows & ill_rows & cond1)], 2, 5, nobias_dir / 'test', 'Correct Ill Cond1 - medhigh sphere diff and medlow bend', random_state=0)"
      ]
    },
    {
      "cell_type": "code",
      "execution_count": null,
      "metadata": {
        "id": "uIKPw6aMgTrL"
      },
      "outputs": [],
      "source": [
        "ill_cond1_corr_idxs = [891, 1167] # rand state = 0"
      ]
    },
    {
      "cell_type": "code",
      "execution_count": null,
      "metadata": {
        "id": "P1drf0l-dBK5"
      },
      "outputs": [],
      "source": [
        "# Cond 1 - Correct Not Ill Examples\n",
        "display_images(nobias_test_df[(correct_rows & notill_rows & cond1)], 2, 5, nobias_dir / 'test', 'Correct Not Ill Cond1 - medhigh sphere diff and medlow bend', random_state=0)"
      ]
    },
    {
      "cell_type": "code",
      "execution_count": null,
      "metadata": {
        "id": "NYcdikhihA9L"
      },
      "outputs": [],
      "source": [
        "notill_cond1_corr_idxs = [1520, 357] # rand state = 1"
      ]
    },
    {
      "cell_type": "code",
      "execution_count": null,
      "metadata": {
        "id": "LOSUijWXczCc"
      },
      "outputs": [],
      "source": [
        "# Cond2 - Correct Ill Examples\n",
        "display_images(nobias_test_df[correct_rows & ill_rows & cond2], 2, 5, nobias_dir / 'test', 'Correcct Ill Cond2 - medhigh sphere diff and medhigh bend', random_state=1)"
      ]
    },
    {
      "cell_type": "code",
      "execution_count": null,
      "metadata": {
        "id": "AcP0c7nVhRy-"
      },
      "outputs": [],
      "source": [
        "ill_cond2_corr_idxs = [1332, 1533] # rand state = 1"
      ]
    },
    {
      "cell_type": "code",
      "execution_count": null,
      "metadata": {
        "id": "qoFN2H8KdD5A"
      },
      "outputs": [],
      "source": [
        "# Cond2 - Correct Not Ill Examples\n",
        "display_images(nobias_test_df[correct_rows & notill_rows & cond2], 2, 5, nobias_dir / 'test', 'Correct Not Ill Cond2 - medhigh sphere diff and medhigh bend', random_state=1)"
      ]
    },
    {
      "cell_type": "code",
      "execution_count": null,
      "metadata": {
        "id": "65uUj-wmhgfR"
      },
      "outputs": [],
      "source": [
        "notill_cond2_corr_idxs = [2085, 512] # rand state = 1"
      ]
    },
    {
      "cell_type": "code",
      "execution_count": null,
      "metadata": {
        "id": "JM8UiFBZc0y6"
      },
      "outputs": [],
      "source": [
        "# Cond3 - Correct Ill Examples\n",
        "display_images(nobias_test_df[correct_rows & ill_rows & cond3], 2, 5, nobias_dir / 'test', 'Correct Ill Cond3 - medlow sphere diff but medhigh bend', random_state=0)"
      ]
    },
    {
      "cell_type": "code",
      "execution_count": null,
      "metadata": {
        "id": "VteKDYl7TQzN"
      },
      "outputs": [],
      "source": [
        "ill_cond3_corr_idxs = [2765, 1856] # rand state = 0"
      ]
    },
    {
      "cell_type": "code",
      "execution_count": null,
      "metadata": {
        "id": "_ltsJ_TTdIAT"
      },
      "outputs": [],
      "source": [
        "# Cond3 - Correct Not Ill Examples\n",
        "display_images(nobias_test_df[correct_rows & notill_rows & cond3], 2, 5, nobias_dir / 'test', 'Correct Not Ill Cond3 - lowmed sphere diff but medhigh bend', random_state=32)"
      ]
    },
    {
      "cell_type": "code",
      "execution_count": null,
      "metadata": {
        "id": "BoeeHcmgTN6h"
      },
      "outputs": [],
      "source": [
        "notill_cond3_corr_idxs = [2172, 189] # rand state = 32"
      ]
    },
    {
      "cell_type": "code",
      "execution_count": null,
      "metadata": {
        "id": "l9ufhqpQc18f"
      },
      "outputs": [],
      "source": [
        "# Condition 4 - Correct Ill Examples\n",
        "display_images(nobias_test_df[correct_rows & ill_rows & cond4 & num_diff_is3], 2, 5, nobias_dir / 'test', 'Correct Ill Cond4 - low sphere diff, medhigh bend, and 3 changed', random_state=1)"
      ]
    },
    {
      "cell_type": "code",
      "execution_count": null,
      "metadata": {
        "id": "vb8qxHmcTplw"
      },
      "outputs": [],
      "source": [
        "ill_cond4_corr_idxs = [2531, 1859] # rand state = 32, 1"
      ]
    },
    {
      "cell_type": "code",
      "execution_count": null,
      "metadata": {
        "id": "YH1B4spfdKK0"
      },
      "outputs": [],
      "source": [
        "# Condition 4 - Correct Not Ill Examples\n",
        "display_images(nobias_test_df[correct_rows & notill_rows & cond4 & num_diff_is1], 2, 5, nobias_dir / 'test', 'Correct Not Ill Cond4 - low sphere diff and 1 change', random_state=11)"
      ]
    },
    {
      "cell_type": "code",
      "execution_count": null,
      "metadata": {
        "id": "y7KX5AXAoIJS"
      },
      "outputs": [],
      "source": [
        "notill_cond4_corr_idxs = [2829, 2463] # rand state = 11"
      ]
    },
    {
      "cell_type": "markdown",
      "metadata": {
        "id": "3iqInKTlvFLB"
      },
      "source": [
        "### Incorrect Samples Selection"
      ]
    },
    {
      "cell_type": "code",
      "execution_count": null,
      "metadata": {
        "id": "fRz81N8TT2cn"
      },
      "outputs": [],
      "source": [
        "print_cond_stats((incorrect_rows & cond1), 'Correct Condition 1 - medhigh sphere diff and medlow bend')\n",
        "print_cond_stats((incorrect_rows & cond2), 'Correct Condition 2 - medhigh sphere diff and medhigh bend')\n",
        "print_cond_stats((incorrect_rows & cond3), 'Correct Condition 3 - medlow sphere diff but medhigh bend')\n",
        "print_cond_stats((incorrect_rows & cond4), 'Correct Condition 4 - low sphere diff but (1,3) changed pieces')"
      ]
    },
    {
      "cell_type": "code",
      "execution_count": null,
      "metadata": {
        "id": "L85xsimFyepQ"
      },
      "outputs": [],
      "source": [
        "# Condition 1 - Ill\n",
        "display_images(nobias_test_df[(incorrect_rows & ill_rows & cond1)], 2, 5, nobias_dir / 'test', 'Incorrect Ill Cond1 - medhigh sphere diff and medlow bend', random_state=0)"
      ]
    },
    {
      "cell_type": "code",
      "execution_count": null,
      "metadata": {
        "id": "9Mo4uX_B2H9R"
      },
      "outputs": [],
      "source": [
        "ill_cond1_inc_idxs = [702] # rand state = 0"
      ]
    },
    {
      "cell_type": "code",
      "execution_count": null,
      "metadata": {
        "id": "hcorYyQvvHUN"
      },
      "outputs": [],
      "source": [
        "# Condition 1 - Not Ill\n",
        "display_images(nobias_test_df[(incorrect_rows & notill_rows & cond1)], 2, 5, nobias_dir / 'test', 'Incorrect Not Ill Cond1 - medhigh sphere diff and medlow bend', random_state=0)\n"
      ]
    },
    {
      "cell_type": "code",
      "execution_count": null,
      "metadata": {
        "id": "7bdpAfHE2YOK"
      },
      "outputs": [],
      "source": [
        "notill_cond1_inc_idxs = [] # no selection for now"
      ]
    },
    {
      "cell_type": "code",
      "execution_count": null,
      "metadata": {
        "id": "jdD3hIHR0IaF"
      },
      "outputs": [],
      "source": [
        "# Condition 2 - Ill\n",
        "display_images(nobias_test_df[(incorrect_rows & ill_rows & cond2)], 2, 5, nobias_dir / 'test', 'Incorrect Ill Cond2 - medhigh sphere diff and medlow bend', random_state=0)"
      ]
    },
    {
      "cell_type": "code",
      "execution_count": null,
      "metadata": {
        "id": "uDPKOUka22kM"
      },
      "outputs": [],
      "source": [
        "ill_cond2_inc_idxs = [] # no selection"
      ]
    },
    {
      "cell_type": "code",
      "execution_count": null,
      "metadata": {
        "id": "P-eKm1Hq0lV-"
      },
      "outputs": [],
      "source": [
        "# Condition 2 - Not Ill\n",
        "display_images(nobias_test_df[(incorrect_rows & notill_rows & cond2)], 2, 5, nobias_dir / 'test', 'Incorrect Not Ill Cond2 - medhigh sphere diff and medlow bend', random_state=10)"
      ]
    },
    {
      "cell_type": "code",
      "execution_count": null,
      "metadata": {
        "id": "Qmiijex025Hy"
      },
      "outputs": [],
      "source": [
        "notill_cond2_inc_idxs = [2625] # rand state = 10"
      ]
    },
    {
      "cell_type": "code",
      "execution_count": null,
      "metadata": {
        "id": "YyL0mYT70vs8"
      },
      "outputs": [],
      "source": [
        "# Condition 3 - Ill\n",
        "display_images(nobias_test_df[(incorrect_rows & ill_rows & cond3)], 2, 5, nobias_dir / 'test', 'Incorrect Ill Cond3 - medlow sphere diff and medhigh bend', random_state=0)"
      ]
    },
    {
      "cell_type": "code",
      "execution_count": null,
      "metadata": {
        "id": "n_b2d_r73nOC"
      },
      "outputs": [],
      "source": [
        "ill_cond3_inc_idxs = [] # no selection"
      ]
    },
    {
      "cell_type": "code",
      "execution_count": null,
      "metadata": {
        "id": "P7RU6Jg81m1u"
      },
      "outputs": [],
      "source": [
        "# Condition 3 - Not Ill\n",
        "display_images(nobias_test_df[(incorrect_rows & notill_rows & cond3)], 2, 5, nobias_dir / 'test', 'Incorrect Not Ill Cond3 - medlow sphere diff and medhigh bend', random_state=5)"
      ]
    },
    {
      "cell_type": "code",
      "execution_count": null,
      "metadata": {
        "id": "AqWxI3E030CA"
      },
      "outputs": [],
      "source": [
        "notill_cond3_inc_idxs = [2876] # rand state = 5"
      ]
    },
    {
      "cell_type": "code",
      "execution_count": null,
      "metadata": {
        "id": "mZ2nN9LA1wd6"
      },
      "outputs": [],
      "source": [
        "# Condition 4 - Ill\n",
        "display_images(nobias_test_df[(incorrect_rows & ill_rows & cond4 & num_diff_is3)], 2, 5, nobias_dir / 'test', 'Incorrect Ill Cond4 - lows sphere diff and 3 changed', random_state=0)"
      ]
    },
    {
      "cell_type": "code",
      "execution_count": null,
      "metadata": {
        "id": "yFRr2QjU4zUQ"
      },
      "outputs": [],
      "source": [
        "ill_cond4_inc_idxs = [] # no selection"
      ]
    },
    {
      "cell_type": "code",
      "execution_count": null,
      "metadata": {
        "id": "kLAbC-vn15jl"
      },
      "outputs": [],
      "source": [
        "# Condition 4 - Not Ill\n",
        "display_images(nobias_test_df[(incorrect_rows & notill_rows & cond4 & num_diff_is1)], 2, 5, nobias_dir / 'test', 'Incorrect Not Ill Cond4 - low sphere diff and 1 changed', random_state=1)"
      ]
    },
    {
      "cell_type": "code",
      "execution_count": null,
      "metadata": {
        "id": "CYbZeeJ84_-i"
      },
      "outputs": [],
      "source": [
        "notill_cond4_inc_idxs = [2334] # rand state = 0"
      ]
    },
    {
      "cell_type": "markdown",
      "metadata": {
        "id": "QvLVXYuj5OEF"
      },
      "source": [
        "### Combine Selections"
      ]
    },
    {
      "cell_type": "code",
      "execution_count": null,
      "metadata": {
        "id": "Hojh9-4N5Smf"
      },
      "outputs": [],
      "source": [
        "corr_samples = (ill_cond1_corr_idxs + notill_cond1_corr_idxs +\n",
        "                ill_cond2_corr_idxs + notill_cond2_corr_idxs +\n",
        "                ill_cond3_corr_idxs + notill_cond3_corr_idxs +\n",
        "                ill_cond4_corr_idxs + notill_cond4_corr_idxs)\n",
        "inc_samples = (ill_cond1_inc_idxs + notill_cond1_inc_idxs +\n",
        "               ill_cond2_inc_idxs + notill_cond2_inc_idxs +\n",
        "               ill_cond3_inc_idxs + notill_cond3_inc_idxs +\n",
        "               ill_cond4_inc_idxs + notill_cond4_inc_idxs)\n",
        "\n",
        "assert len(set(corr_samples + inc_samples)) == 20, 'selection may contain duplicates'\n",
        "\n",
        "corr_df = nobias_test_df.loc[corr_samples]\n",
        "inc_df = nobias_test_df.loc[inc_samples]\n",
        "\n",
        "final_xai_df = pd.concat([corr_df, inc_df])\n",
        "len(final_xai_df), (final_xai_df['biased_pred'] == final_xai_df['ill']).astype(int).mean()"
      ]
    },
    {
      "cell_type": "code",
      "execution_count": null,
      "metadata": {
        "id": "oHpTKK8b6ofn"
      },
      "outputs": [],
      "source": [
        "display_images(final_xai_df, 4, 5, nobias_dir / 'test', 'Final XAI Dataset')"
      ]
    },
    {
      "cell_type": "code",
      "execution_count": null,
      "metadata": {
        "id": "00Q2ihr2-shr"
      },
      "outputs": [],
      "source": [
        "xai_images = np.array([Image.open(p).convert('RGB') for p in nobias_dir / 'test' / final_xai_df['filename']]) * 1. / 255"
      ]
    },
    {
      "cell_type": "markdown",
      "metadata": {
        "id": "vAHKJcagYvkU"
      },
      "source": [
        "#### Save Inputs"
      ]
    },
    {
      "cell_type": "code",
      "execution_count": null,
      "metadata": {
        "id": "RD59NeNvY0_d"
      },
      "outputs": [],
      "source": [
        "def show_blocky(image, id):\n",
        "\n",
        "  figsize = [5, 5]\n",
        "  fig, ax = plt.subplots(nrows=1, ncols=1, figsize=figsize)\n",
        "\n",
        "  #plot the input image\n",
        "  input_img = resize(image, (256, 256))\n",
        "  ax.imshow(image)\n",
        "  ax.set_title(f'Blocky ID: {id}')\n",
        "  ax.axis('off')"
      ]
    },
    {
      "cell_type": "code",
      "execution_count": null,
      "metadata": {
        "id": "FgBIdATDY0Bi"
      },
      "outputs": [],
      "source": [
        "today = datetime.datetime.today()\n",
        "date_str = today.strftime('%Y-%m-%d')\n",
        "\n",
        "o = output / 'original_input' / 'biased_model' / date_str / 'xai_samples'\n",
        "os.makedirs(o, exist_ok=True)\n",
        "print(f'saving to {o}')\n",
        "\n",
        "for i, ((idx, row), image) in enumerate(zip(final_xai_df.iterrows(), xai_images)):\n",
        "  print(i+1)\n",
        "  show_blocky(image, row[\"id\"])\n",
        "  plt.savefig(o / f'{row[\"id\"]}_true={row[\"ill\"]}_pred={row[\"biased_pred\"]}_input.png')\n",
        "  plt.show()"
      ]
    },
    {
      "cell_type": "markdown",
      "metadata": {
        "id": "e2fupDHq8Cye"
      },
      "source": [
        "## Explanations of Biased Model"
      ]
    },
    {
      "cell_type": "markdown",
      "metadata": {
        "id": "s4mmNWdOp2XV"
      },
      "source": [
        "### SHAP Explanations"
      ]
    },
    {
      "cell_type": "code",
      "execution_count": 66,
      "metadata": {
        "id": "KnnZfiZDgJvd"
      },
      "outputs": [],
      "source": [
        "# load background images\n",
        "CLASSES = ['Not Ill', 'Ill']\n",
        "\n",
        "n_bck = 250\n",
        "\n",
        "bck_files = nobias_test_df['filename'].sample(n_bck, random_state=5)\n",
        "bck_images = np.array([Image.open(p).convert('RGB') for p in nobias_dir / 'test' / bck_files]) * 1. / 255"
      ]
    },
    {
      "cell_type": "code",
      "execution_count": 72,
      "metadata": {
        "id": "qILvjlEyi6Em"
      },
      "outputs": [],
      "source": [
        "# adding input shape to model for shap - https://github.com/shap/shap/issues/1226\n",
        "shap_model_input = tf.keras.layers.Input(shape=(128, 128, 3))\n",
        "shap_model_output = biased_model(shap_model_input)\n",
        "shap_model = tf.keras.models.Model(inputs=shap_model_input, outputs=shap_model_output)\n",
        "\n",
        "# Partition Explaniner\n",
        "# define a masker that is used to mask out partitions of the input image.\n",
        "masker = shap.maskers.Image(\"blur(128,128)\", xai_images[0].shape)\n",
        "explainer = shap.Explainer(biased_model, masker, output_names=CLASSES, max_evals=1000)\n",
        "\n",
        "# Deep Explainer\n",
        "# shap.explainers._deep.deep_tf.op_handlers[\"Relu6\"] = shap.explainers._deep.deep_tf.nonlinearity_1d(0)\n",
        "# shap.explainers._deep.deep_tf.op_handlers[\"FusedBatchNormV3\"] = shap.explainers._deep.deep_tf.linearity_1d(0)\n",
        "# shap.explainers._deep.deep_tf.op_handlers[\"StridedSlice\"] = shap.explainers._deep.deep_tf.passthrough\n",
        "# shap.explainers._deep.deep_tf.op_handlers[\"DepthwiseConv2dNative\"] = shap.explainers._deep.deep_tf.linearity_1d(0)\n",
        "\n",
        "\n",
        "# explainer = shap.DeepExplainer(shap_model, bck_images)"
      ]
    },
    {
      "cell_type": "code",
      "execution_count": 73,
      "metadata": {
        "colab": {
          "base_uri": "https://localhost:8080/"
        },
        "id": "3u4v1P3ra52Q",
        "outputId": "c4778b4a-c09e-4af3-e5ad-608ebdb97a04"
      },
      "outputs": [
        {
          "data": {
            "text/plain": [
              "dtype('float64')"
            ]
          },
          "execution_count": 73,
          "metadata": {},
          "output_type": "execute_result"
        }
      ],
      "source": [
        "xai_images.dtype"
      ]
    },
    {
      "cell_type": "code",
      "execution_count": 74,
      "metadata": {
        "colab": {
          "base_uri": "https://localhost:8080/",
          "height": 0
        },
        "id": "tsF37MDSnen3",
        "outputId": "c01a1450-41d4-4b72-e34b-90f40d6d44b3"
      },
      "outputs": [
        {
          "ename": "NotImplementedError",
          "evalue": "Cannot convert a symbolic tf.Tensor (sequential_1_2/dense_1/Softmax:0) to a numpy array. This error may indicate that you're trying to pass a Tensor to a NumPy call, which is not supported.",
          "output_type": "error",
          "traceback": [
            "\u001b[0;31m---------------------------------------------------------------------------\u001b[0m",
            "\u001b[0;31mNotImplementedError\u001b[0m                       Traceback (most recent call last)",
            "\u001b[0;32m<ipython-input-74-682c22304847>\u001b[0m in \u001b[0;36m<cell line: 1>\u001b[0;34m()\u001b[0m\n\u001b[0;32m----> 1\u001b[0;31m \u001b[0mshap_values\u001b[0m \u001b[0;34m=\u001b[0m \u001b[0mexplainer\u001b[0m\u001b[0;34m(\u001b[0m\u001b[0mxai_images\u001b[0m\u001b[0;34m)\u001b[0m\u001b[0;34m\u001b[0m\u001b[0;34m\u001b[0m\u001b[0m\n\u001b[0m",
            "\u001b[0;32m/usr/local/lib/python3.10/dist-packages/shap/explainers/_partition.py\u001b[0m in \u001b[0;36m__call__\u001b[0;34m(self, max_evals, fixed_context, main_effects, error_bounds, batch_size, outputs, silent, *args)\u001b[0m\n\u001b[1;32m    113\u001b[0m                 def __call__(self, *args, max_evals=500, fixed_context=None, main_effects=False, error_bounds=False, batch_size=\"auto\",\n\u001b[1;32m    114\u001b[0m                              outputs=None, silent=False):\n\u001b[0;32m--> 115\u001b[0;31m                     return super().__call__(\n\u001b[0m\u001b[1;32m    116\u001b[0m                         \u001b[0;34m*\u001b[0m\u001b[0margs\u001b[0m\u001b[0;34m,\u001b[0m \u001b[0mmax_evals\u001b[0m\u001b[0;34m=\u001b[0m\u001b[0mmax_evals\u001b[0m\u001b[0;34m,\u001b[0m \u001b[0mfixed_context\u001b[0m\u001b[0;34m=\u001b[0m\u001b[0mfixed_context\u001b[0m\u001b[0;34m,\u001b[0m \u001b[0mmain_effects\u001b[0m\u001b[0;34m=\u001b[0m\u001b[0mmain_effects\u001b[0m\u001b[0;34m,\u001b[0m \u001b[0merror_bounds\u001b[0m\u001b[0;34m=\u001b[0m\u001b[0merror_bounds\u001b[0m\u001b[0;34m,\u001b[0m\u001b[0;34m\u001b[0m\u001b[0;34m\u001b[0m\u001b[0m\n\u001b[1;32m    117\u001b[0m                         \u001b[0mbatch_size\u001b[0m\u001b[0;34m=\u001b[0m\u001b[0mbatch_size\u001b[0m\u001b[0;34m,\u001b[0m \u001b[0moutputs\u001b[0m\u001b[0;34m=\u001b[0m\u001b[0moutputs\u001b[0m\u001b[0;34m,\u001b[0m \u001b[0msilent\u001b[0m\u001b[0;34m=\u001b[0m\u001b[0msilent\u001b[0m\u001b[0;34m\u001b[0m\u001b[0;34m\u001b[0m\u001b[0m\n",
            "\u001b[0;32m/usr/local/lib/python3.10/dist-packages/shap/explainers/_partition.py\u001b[0m in \u001b[0;36m__call__\u001b[0;34m(self, max_evals, fixed_context, main_effects, error_bounds, batch_size, outputs, silent, *args)\u001b[0m\n\u001b[1;32m    126\u001b[0m                  outputs=None, silent=False):\n\u001b[1;32m    127\u001b[0m         \u001b[0;34m\"\"\"Explain the output of the model on the given arguments.\"\"\"\u001b[0m\u001b[0;34m\u001b[0m\u001b[0;34m\u001b[0m\u001b[0m\n\u001b[0;32m--> 128\u001b[0;31m         return super().__call__(\n\u001b[0m\u001b[1;32m    129\u001b[0m             \u001b[0;34m*\u001b[0m\u001b[0margs\u001b[0m\u001b[0;34m,\u001b[0m \u001b[0mmax_evals\u001b[0m\u001b[0;34m=\u001b[0m\u001b[0mmax_evals\u001b[0m\u001b[0;34m,\u001b[0m \u001b[0mfixed_context\u001b[0m\u001b[0;34m=\u001b[0m\u001b[0mfixed_context\u001b[0m\u001b[0;34m,\u001b[0m \u001b[0mmain_effects\u001b[0m\u001b[0;34m=\u001b[0m\u001b[0mmain_effects\u001b[0m\u001b[0;34m,\u001b[0m \u001b[0merror_bounds\u001b[0m\u001b[0;34m=\u001b[0m\u001b[0merror_bounds\u001b[0m\u001b[0;34m,\u001b[0m \u001b[0mbatch_size\u001b[0m\u001b[0;34m=\u001b[0m\u001b[0mbatch_size\u001b[0m\u001b[0;34m,\u001b[0m\u001b[0;34m\u001b[0m\u001b[0;34m\u001b[0m\u001b[0m\n\u001b[1;32m    130\u001b[0m             \u001b[0moutputs\u001b[0m\u001b[0;34m=\u001b[0m\u001b[0moutputs\u001b[0m\u001b[0;34m,\u001b[0m \u001b[0msilent\u001b[0m\u001b[0;34m=\u001b[0m\u001b[0msilent\u001b[0m\u001b[0;34m\u001b[0m\u001b[0;34m\u001b[0m\u001b[0m\n",
            "\u001b[0;32m/usr/local/lib/python3.10/dist-packages/shap/explainers/_explainer.py\u001b[0m in \u001b[0;36m__call__\u001b[0;34m(self, max_evals, main_effects, error_bounds, batch_size, outputs, silent, *args, **kwargs)\u001b[0m\n\u001b[1;32m    264\u001b[0m             \u001b[0mfeature_names\u001b[0m \u001b[0;34m=\u001b[0m \u001b[0;34m[\u001b[0m\u001b[0;34m[\u001b[0m\u001b[0;34m]\u001b[0m \u001b[0;32mfor\u001b[0m \u001b[0m_\u001b[0m \u001b[0;32min\u001b[0m \u001b[0mrange\u001b[0m\u001b[0;34m(\u001b[0m\u001b[0mlen\u001b[0m\u001b[0;34m(\u001b[0m\u001b[0margs\u001b[0m\u001b[0;34m)\u001b[0m\u001b[0;34m)\u001b[0m\u001b[0;34m]\u001b[0m\u001b[0;34m\u001b[0m\u001b[0;34m\u001b[0m\u001b[0m\n\u001b[1;32m    265\u001b[0m         \u001b[0;32mfor\u001b[0m \u001b[0mrow_args\u001b[0m \u001b[0;32min\u001b[0m \u001b[0mshow_progress\u001b[0m\u001b[0;34m(\u001b[0m\u001b[0mzip\u001b[0m\u001b[0;34m(\u001b[0m\u001b[0;34m*\u001b[0m\u001b[0margs\u001b[0m\u001b[0;34m)\u001b[0m\u001b[0;34m,\u001b[0m \u001b[0mnum_rows\u001b[0m\u001b[0;34m,\u001b[0m \u001b[0mself\u001b[0m\u001b[0;34m.\u001b[0m\u001b[0m__class__\u001b[0m\u001b[0;34m.\u001b[0m\u001b[0m__name__\u001b[0m\u001b[0;34m+\u001b[0m\u001b[0;34m\" explainer\"\u001b[0m\u001b[0;34m,\u001b[0m \u001b[0msilent\u001b[0m\u001b[0;34m)\u001b[0m\u001b[0;34m:\u001b[0m\u001b[0;34m\u001b[0m\u001b[0;34m\u001b[0m\u001b[0m\n\u001b[0;32m--> 266\u001b[0;31m             row_result = self.explain_row(\n\u001b[0m\u001b[1;32m    267\u001b[0m                 \u001b[0;34m*\u001b[0m\u001b[0mrow_args\u001b[0m\u001b[0;34m,\u001b[0m \u001b[0mmax_evals\u001b[0m\u001b[0;34m=\u001b[0m\u001b[0mmax_evals\u001b[0m\u001b[0;34m,\u001b[0m \u001b[0mmain_effects\u001b[0m\u001b[0;34m=\u001b[0m\u001b[0mmain_effects\u001b[0m\u001b[0;34m,\u001b[0m \u001b[0merror_bounds\u001b[0m\u001b[0;34m=\u001b[0m\u001b[0merror_bounds\u001b[0m\u001b[0;34m,\u001b[0m\u001b[0;34m\u001b[0m\u001b[0;34m\u001b[0m\u001b[0m\n\u001b[1;32m    268\u001b[0m                 \u001b[0mbatch_size\u001b[0m\u001b[0;34m=\u001b[0m\u001b[0mbatch_size\u001b[0m\u001b[0;34m,\u001b[0m \u001b[0moutputs\u001b[0m\u001b[0;34m=\u001b[0m\u001b[0moutputs\u001b[0m\u001b[0;34m,\u001b[0m \u001b[0msilent\u001b[0m\u001b[0;34m=\u001b[0m\u001b[0msilent\u001b[0m\u001b[0;34m,\u001b[0m \u001b[0;34m**\u001b[0m\u001b[0mkwargs\u001b[0m\u001b[0;34m\u001b[0m\u001b[0;34m\u001b[0m\u001b[0m\n",
            "\u001b[0;32m/usr/local/lib/python3.10/dist-packages/shap/explainers/_partition.py\u001b[0m in \u001b[0;36mexplain_row\u001b[0;34m(self, max_evals, main_effects, error_bounds, batch_size, outputs, silent, fixed_context, *row_args)\u001b[0m\n\u001b[1;32m    149\u001b[0m         \u001b[0;31m# if not fixed background or no base value assigned then compute base value for a row\u001b[0m\u001b[0;34m\u001b[0m\u001b[0;34m\u001b[0m\u001b[0m\n\u001b[1;32m    150\u001b[0m         \u001b[0;32mif\u001b[0m \u001b[0mself\u001b[0m\u001b[0;34m.\u001b[0m\u001b[0m_curr_base_value\u001b[0m \u001b[0;32mis\u001b[0m \u001b[0;32mNone\u001b[0m \u001b[0;32mor\u001b[0m \u001b[0;32mnot\u001b[0m \u001b[0mgetattr\u001b[0m\u001b[0;34m(\u001b[0m\u001b[0mself\u001b[0m\u001b[0;34m.\u001b[0m\u001b[0mmasker\u001b[0m\u001b[0;34m,\u001b[0m \u001b[0;34m\"fixed_background\"\u001b[0m\u001b[0;34m,\u001b[0m \u001b[0;32mFalse\u001b[0m\u001b[0;34m)\u001b[0m\u001b[0;34m:\u001b[0m\u001b[0;34m\u001b[0m\u001b[0;34m\u001b[0m\u001b[0m\n\u001b[0;32m--> 151\u001b[0;31m             \u001b[0mself\u001b[0m\u001b[0;34m.\u001b[0m\u001b[0m_curr_base_value\u001b[0m \u001b[0;34m=\u001b[0m \u001b[0mfm\u001b[0m\u001b[0;34m(\u001b[0m\u001b[0mm00\u001b[0m\u001b[0;34m.\u001b[0m\u001b[0mreshape\u001b[0m\u001b[0;34m(\u001b[0m\u001b[0;36m1\u001b[0m\u001b[0;34m,\u001b[0m \u001b[0;34m-\u001b[0m\u001b[0;36m1\u001b[0m\u001b[0;34m)\u001b[0m\u001b[0;34m,\u001b[0m \u001b[0mzero_index\u001b[0m\u001b[0;34m=\u001b[0m\u001b[0;36m0\u001b[0m\u001b[0;34m)\u001b[0m\u001b[0;34m[\u001b[0m\u001b[0;36m0\u001b[0m\u001b[0;34m]\u001b[0m \u001b[0;31m# the zero index param tells the masked model what the baseline is\u001b[0m\u001b[0;34m\u001b[0m\u001b[0;34m\u001b[0m\u001b[0m\n\u001b[0m\u001b[1;32m    152\u001b[0m         \u001b[0mf11\u001b[0m \u001b[0;34m=\u001b[0m \u001b[0mfm\u001b[0m\u001b[0;34m(\u001b[0m\u001b[0;34m~\u001b[0m\u001b[0mm00\u001b[0m\u001b[0;34m.\u001b[0m\u001b[0mreshape\u001b[0m\u001b[0;34m(\u001b[0m\u001b[0;36m1\u001b[0m\u001b[0;34m,\u001b[0m \u001b[0;34m-\u001b[0m\u001b[0;36m1\u001b[0m\u001b[0;34m)\u001b[0m\u001b[0;34m)\u001b[0m\u001b[0;34m[\u001b[0m\u001b[0;36m0\u001b[0m\u001b[0;34m]\u001b[0m\u001b[0;34m\u001b[0m\u001b[0;34m\u001b[0m\u001b[0m\n\u001b[1;32m    153\u001b[0m \u001b[0;34m\u001b[0m\u001b[0m\n",
            "\u001b[0;32m/usr/local/lib/python3.10/dist-packages/shap/utils/_masked_model.py\u001b[0m in \u001b[0;36m__call__\u001b[0;34m(self, masks, zero_index, batch_size)\u001b[0m\n\u001b[1;32m     68\u001b[0m \u001b[0;34m\u001b[0m\u001b[0m\n\u001b[1;32m     69\u001b[0m         \u001b[0;32melse\u001b[0m\u001b[0;34m:\u001b[0m\u001b[0;34m\u001b[0m\u001b[0;34m\u001b[0m\u001b[0m\n\u001b[0;32m---> 70\u001b[0;31m             \u001b[0;32mreturn\u001b[0m \u001b[0mself\u001b[0m\u001b[0;34m.\u001b[0m\u001b[0m_full_masking_call\u001b[0m\u001b[0;34m(\u001b[0m\u001b[0mmasks\u001b[0m\u001b[0;34m,\u001b[0m \u001b[0mbatch_size\u001b[0m\u001b[0;34m=\u001b[0m\u001b[0mbatch_size\u001b[0m\u001b[0;34m)\u001b[0m\u001b[0;34m\u001b[0m\u001b[0;34m\u001b[0m\u001b[0m\n\u001b[0m\u001b[1;32m     71\u001b[0m \u001b[0;34m\u001b[0m\u001b[0m\n\u001b[1;32m     72\u001b[0m     \u001b[0;32mdef\u001b[0m \u001b[0m_full_masking_call\u001b[0m\u001b[0;34m(\u001b[0m\u001b[0mself\u001b[0m\u001b[0;34m,\u001b[0m \u001b[0mmasks\u001b[0m\u001b[0;34m,\u001b[0m \u001b[0mzero_index\u001b[0m\u001b[0;34m=\u001b[0m\u001b[0;32mNone\u001b[0m\u001b[0;34m,\u001b[0m \u001b[0mbatch_size\u001b[0m\u001b[0;34m=\u001b[0m\u001b[0;32mNone\u001b[0m\u001b[0;34m)\u001b[0m\u001b[0;34m:\u001b[0m\u001b[0;34m\u001b[0m\u001b[0;34m\u001b[0m\u001b[0m\n",
            "\u001b[0;32m/usr/local/lib/python3.10/dist-packages/shap/utils/_masked_model.py\u001b[0m in \u001b[0;36m_full_masking_call\u001b[0;34m(self, masks, zero_index, batch_size)\u001b[0m\n\u001b[1;32m    145\u001b[0m \u001b[0;34m\u001b[0m\u001b[0m\n\u001b[1;32m    146\u001b[0m             \u001b[0mjoined_masked_inputs\u001b[0m \u001b[0;34m=\u001b[0m \u001b[0mtuple\u001b[0m\u001b[0;34m(\u001b[0m\u001b[0;34m[\u001b[0m\u001b[0mnp\u001b[0m\u001b[0;34m.\u001b[0m\u001b[0mconcatenate\u001b[0m\u001b[0;34m(\u001b[0m\u001b[0mv\u001b[0m\u001b[0;34m)\u001b[0m \u001b[0;32mfor\u001b[0m \u001b[0mv\u001b[0m \u001b[0;32min\u001b[0m \u001b[0mall_masked_inputs\u001b[0m\u001b[0;34m]\u001b[0m\u001b[0;34m)\u001b[0m\u001b[0;34m\u001b[0m\u001b[0;34m\u001b[0m\u001b[0m\n\u001b[0;32m--> 147\u001b[0;31m             \u001b[0moutputs\u001b[0m \u001b[0;34m=\u001b[0m \u001b[0mself\u001b[0m\u001b[0;34m.\u001b[0m\u001b[0mmodel\u001b[0m\u001b[0;34m(\u001b[0m\u001b[0;34m*\u001b[0m\u001b[0mjoined_masked_inputs\u001b[0m\u001b[0;34m)\u001b[0m\u001b[0;34m\u001b[0m\u001b[0;34m\u001b[0m\u001b[0m\n\u001b[0m\u001b[1;32m    148\u001b[0m             \u001b[0m_assert_output_input_match\u001b[0m\u001b[0;34m(\u001b[0m\u001b[0mjoined_masked_inputs\u001b[0m\u001b[0;34m,\u001b[0m \u001b[0moutputs\u001b[0m\u001b[0;34m)\u001b[0m\u001b[0;34m\u001b[0m\u001b[0;34m\u001b[0m\u001b[0m\n\u001b[1;32m    149\u001b[0m             \u001b[0mall_outputs\u001b[0m\u001b[0;34m.\u001b[0m\u001b[0mappend\u001b[0m\u001b[0;34m(\u001b[0m\u001b[0moutputs\u001b[0m\u001b[0;34m)\u001b[0m\u001b[0;34m\u001b[0m\u001b[0;34m\u001b[0m\u001b[0m\n",
            "\u001b[0;32m/usr/local/lib/python3.10/dist-packages/shap/models/_model.py\u001b[0m in \u001b[0;36m__call__\u001b[0;34m(self, *args)\u001b[0m\n\u001b[1;32m     21\u001b[0m         \u001b[0mout\u001b[0m \u001b[0;34m=\u001b[0m \u001b[0mself\u001b[0m\u001b[0;34m.\u001b[0m\u001b[0minner_model\u001b[0m\u001b[0;34m(\u001b[0m\u001b[0;34m*\u001b[0m\u001b[0margs\u001b[0m\u001b[0;34m)\u001b[0m\u001b[0;34m\u001b[0m\u001b[0;34m\u001b[0m\u001b[0m\n\u001b[1;32m     22\u001b[0m         \u001b[0mis_tensor\u001b[0m \u001b[0;34m=\u001b[0m \u001b[0msafe_isinstance\u001b[0m\u001b[0;34m(\u001b[0m\u001b[0mout\u001b[0m\u001b[0;34m,\u001b[0m \u001b[0;34m\"torch.Tensor\"\u001b[0m\u001b[0;34m)\u001b[0m\u001b[0;34m\u001b[0m\u001b[0;34m\u001b[0m\u001b[0m\n\u001b[0;32m---> 23\u001b[0;31m         \u001b[0mout\u001b[0m \u001b[0;34m=\u001b[0m \u001b[0mout\u001b[0m\u001b[0;34m.\u001b[0m\u001b[0mcpu\u001b[0m\u001b[0;34m(\u001b[0m\u001b[0;34m)\u001b[0m\u001b[0;34m.\u001b[0m\u001b[0mdetach\u001b[0m\u001b[0;34m(\u001b[0m\u001b[0;34m)\u001b[0m\u001b[0;34m.\u001b[0m\u001b[0mnumpy\u001b[0m\u001b[0;34m(\u001b[0m\u001b[0;34m)\u001b[0m \u001b[0;32mif\u001b[0m \u001b[0mis_tensor\u001b[0m \u001b[0;32melse\u001b[0m \u001b[0mnp\u001b[0m\u001b[0;34m.\u001b[0m\u001b[0marray\u001b[0m\u001b[0;34m(\u001b[0m\u001b[0mout\u001b[0m\u001b[0;34m)\u001b[0m\u001b[0;34m\u001b[0m\u001b[0;34m\u001b[0m\u001b[0m\n\u001b[0m\u001b[1;32m     24\u001b[0m         \u001b[0;32mreturn\u001b[0m \u001b[0mout\u001b[0m\u001b[0;34m\u001b[0m\u001b[0;34m\u001b[0m\u001b[0m\n\u001b[1;32m     25\u001b[0m \u001b[0;34m\u001b[0m\u001b[0m\n",
            "\u001b[0;32m/usr/local/lib/python3.10/dist-packages/tensorflow/python/framework/tensor.py\u001b[0m in \u001b[0;36m__array__\u001b[0;34m(***failed resolving arguments***)\u001b[0m\n\u001b[1;32m    626\u001b[0m   \u001b[0;32mdef\u001b[0m \u001b[0m__array__\u001b[0m\u001b[0;34m(\u001b[0m\u001b[0mself\u001b[0m\u001b[0;34m,\u001b[0m \u001b[0mdtype\u001b[0m\u001b[0;34m=\u001b[0m\u001b[0;32mNone\u001b[0m\u001b[0;34m)\u001b[0m\u001b[0;34m:\u001b[0m\u001b[0;34m\u001b[0m\u001b[0;34m\u001b[0m\u001b[0m\n\u001b[1;32m    627\u001b[0m     \u001b[0;32mdel\u001b[0m \u001b[0mdtype\u001b[0m\u001b[0;34m\u001b[0m\u001b[0;34m\u001b[0m\u001b[0m\n\u001b[0;32m--> 628\u001b[0;31m     raise NotImplementedError(\n\u001b[0m\u001b[1;32m    629\u001b[0m         \u001b[0;34mf\"Cannot convert a symbolic tf.Tensor ({self.name}) to a numpy array.\"\u001b[0m\u001b[0;34m\u001b[0m\u001b[0;34m\u001b[0m\u001b[0m\n\u001b[1;32m    630\u001b[0m         \u001b[0;34mf\" This error may indicate that you're trying to pass a Tensor to\"\u001b[0m\u001b[0;34m\u001b[0m\u001b[0;34m\u001b[0m\u001b[0m\n",
            "\u001b[0;31mNotImplementedError\u001b[0m: Cannot convert a symbolic tf.Tensor (sequential_1_2/dense_1/Softmax:0) to a numpy array. This error may indicate that you're trying to pass a Tensor to a NumPy call, which is not supported."
          ]
        }
      ],
      "source": [
        "shap_values = explainer(xai_images)"
      ]
    },
    {
      "cell_type": "code",
      "execution_count": null,
      "metadata": {
        "id": "_XkKZByqTZ6c"
      },
      "outputs": [],
      "source": [
        "# reshape data to fit image_plot\n",
        "shap_values_t = np.transpose(shap_values.values, (-1, 0, 1, 2, 3))\n",
        "shap_values_t = list(shap_values_t)"
      ]
    },
    {
      "cell_type": "markdown",
      "metadata": {
        "id": "LCErEAE1MsmO"
      },
      "source": [
        "NOTE: Ill ones are biased towards red in the training data\n",
        "\n"
      ]
    },
    {
      "cell_type": "markdown",
      "metadata": {
        "id": "WtWjieF0-5Dj"
      },
      "source": []
    },
    {
      "cell_type": "code",
      "execution_count": null,
      "metadata": {
        "collapsed": true,
        "id": "qHPi-Q6NoFmM"
      },
      "outputs": [],
      "source": [
        "img_labels = [(CLASSES[int(t)], CLASSES[int(p)]) for t, p in zip(final_xai_df['ill'], final_xai_df['biased_pred'])]\n",
        "shap.image_plot(shap_values_t, xai_images, labels=np.repeat([CLASSES], len(xai_images), axis=0), true_labels=img_labels, show=False)\n",
        "\n",
        "# shap.image_plot(shap_values, true_labels=img_labels, show=False)\n",
        "# plt.savefig('model_nobias_data_nobias.png')\n",
        "plt.show()"
      ]
    },
    {
      "cell_type": "markdown",
      "metadata": {
        "id": "2f-P97kBp97i"
      },
      "source": [
        "### Innvestigate Explanations"
      ]
    },
    {
      "cell_type": "code",
      "execution_count": 70,
      "metadata": {
        "colab": {
          "base_uri": "https://localhost:8080/",
          "height": 0
        },
        "id": "Y3ero6cVcWdK",
        "outputId": "3647e194-b27c-4493-d585-d98461d9e52c"
      },
      "outputs": [
        {
          "data": {
            "application/vnd.google.colaboratory.intrinsic+json": {
              "type": "string"
            },
            "text/plain": [
              "'1.25.2'"
            ]
          },
          "execution_count": 70,
          "metadata": {},
          "output_type": "execute_result"
        }
      ],
      "source": [
        "np.__version__"
      ]
    },
    {
      "cell_type": "code",
      "execution_count": 71,
      "metadata": {
        "colab": {
          "base_uri": "https://localhost:8080/",
          "height": 0
        },
        "id": "nCZBJ4BMcZrb",
        "outputId": "6b5eaf47-0fee-4bec-e756-dca20196e735"
      },
      "outputs": [
        {
          "data": {
            "application/vnd.google.colaboratory.intrinsic+json": {
              "type": "string"
            },
            "text/plain": [
              "'2.14.1'"
            ]
          },
          "execution_count": 71,
          "metadata": {},
          "output_type": "execute_result"
        }
      ],
      "source": [
        "tf.__version__"
      ]
    },
    {
      "cell_type": "code",
      "execution_count": null,
      "metadata": {
        "id": "BbxuJfJYedoy"
      },
      "outputs": [],
      "source": []
    }
  ],
  "metadata": {
    "colab": {
      "authorship_tag": "ABX9TyN5tJrk2UFMquiEiDitiU2m",
      "collapsed_sections": [
        "e2fupDHq8Cye"
      ],
      "include_colab_link": true,
      "machine_shape": "hm",
      "mount_file_id": "1Ws9hgMF2dk4jB0t5F5ox6Kj2eCDCHTws",
      "provenance": [],
      "toc_visible": true
    },
    "kernelspec": {
      "display_name": "Python 3",
      "name": "python3"
    },
    "language_info": {
      "codemirror_mode": {
        "name": "ipython",
        "version": 3
      },
      "file_extension": ".py",
      "mimetype": "text/x-python",
      "name": "python",
      "nbconvert_exporter": "python",
      "pygments_lexer": "ipython3",
      "version": "3.10.14"
    }
  },
  "nbformat": 4,
  "nbformat_minor": 0
}
