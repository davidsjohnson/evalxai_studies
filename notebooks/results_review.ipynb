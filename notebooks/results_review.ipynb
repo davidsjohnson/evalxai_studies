{
 "cells": [
  {
   "cell_type": "code",
   "execution_count": 1,
   "metadata": {},
   "outputs": [],
   "source": [
    "from pathlib import Path\n",
    "import pandas as pd"
   ]
  },
  {
   "cell_type": "code",
   "execution_count": 31,
   "metadata": {},
   "outputs": [
    {
     "data": {
      "text/plain": [
       "PosixPath('/Users/djohnson/sciebo/1. Research/1. HCXAI/1. Projects/evalxai_studies/example_validation_study/validation_noxai/results/results_validation_noxai_djnew.csv')"
      ]
     },
     "execution_count": 31,
     "metadata": {},
     "output_type": "execute_result"
    }
   ],
   "source": [
    "CLASSES = ['Healthy', 'Blockies Disease']\n",
    "input_stages = {'0': 'training', '1': 'validation_nodiag', '2': 'validation_noxai'}\n",
    "BASEPATH = Path('/Users/djohnson/sciebo/1. Research/1. HCXAI/1. Projects/evalxai_studies/example_validation_study')\n",
    "\n",
    "stage ='2'\n",
    "id = 'djnew'\n",
    "\n",
    "resfile = BASEPATH / input_stages[stage] / 'results' / f'results_{input_stages[stage]}_{id}.csv'\n",
    "resfile"
   ]
  },
  {
   "cell_type": "code",
   "execution_count": 32,
   "metadata": {},
   "outputs": [
    {
     "data": {
      "text/html": [
       "<div>\n",
       "<style scoped>\n",
       "    .dataframe tbody tr th:only-of-type {\n",
       "        vertical-align: middle;\n",
       "    }\n",
       "\n",
       "    .dataframe tbody tr th {\n",
       "        vertical-align: top;\n",
       "    }\n",
       "\n",
       "    .dataframe thead th {\n",
       "        text-align: right;\n",
       "    }\n",
       "</style>\n",
       "<table border=\"1\" class=\"dataframe\">\n",
       "  <thead>\n",
       "    <tr style=\"text-align: right;\">\n",
       "      <th></th>\n",
       "      <th>id</th>\n",
       "      <th>true</th>\n",
       "      <th>pred</th>\n",
       "      <th>select</th>\n",
       "    </tr>\n",
       "  </thead>\n",
       "  <tbody>\n",
       "    <tr>\n",
       "      <th>30</th>\n",
       "      <td>3b2bb012-6945-47ab-b195-c782700f9618</td>\n",
       "      <td>1</td>\n",
       "      <td>1</td>\n",
       "      <td>1</td>\n",
       "    </tr>\n",
       "    <tr>\n",
       "      <th>37</th>\n",
       "      <td>02468b3f-1290-4631-9d5f-6507df9504fc</td>\n",
       "      <td>1</td>\n",
       "      <td>1</td>\n",
       "      <td>1</td>\n",
       "    </tr>\n",
       "    <tr>\n",
       "      <th>27</th>\n",
       "      <td>2756db17-141b-445b-90c1-fc08fa137612</td>\n",
       "      <td>1</td>\n",
       "      <td>0</td>\n",
       "      <td>1</td>\n",
       "    </tr>\n",
       "    <tr>\n",
       "      <th>15</th>\n",
       "      <td>c03747fd-712e-40aa-865b-c71dbfed09fd</td>\n",
       "      <td>0</td>\n",
       "      <td>0</td>\n",
       "      <td>0</td>\n",
       "    </tr>\n",
       "    <tr>\n",
       "      <th>36</th>\n",
       "      <td>01251a79-bfd4-4b1d-9db8-55228de6d67a</td>\n",
       "      <td>0</td>\n",
       "      <td>0</td>\n",
       "      <td>0</td>\n",
       "    </tr>\n",
       "  </tbody>\n",
       "</table>\n",
       "</div>"
      ],
      "text/plain": [
       "                                      id  true  pred  select\n",
       "30  3b2bb012-6945-47ab-b195-c782700f9618     1     1       1\n",
       "37  02468b3f-1290-4631-9d5f-6507df9504fc     1     1       1\n",
       "27  2756db17-141b-445b-90c1-fc08fa137612     1     0       1\n",
       "15  c03747fd-712e-40aa-865b-c71dbfed09fd     0     0       0\n",
       "36  01251a79-bfd4-4b1d-9db8-55228de6d67a     0     0       0"
      ]
     },
     "execution_count": 32,
     "metadata": {},
     "output_type": "execute_result"
    }
   ],
   "source": [
    "\n",
    "df = pd.read_csv(resfile)\n",
    "df.sample(5)"
   ]
  },
  {
   "cell_type": "code",
   "execution_count": 33,
   "metadata": {},
   "outputs": [
    {
     "name": "stdout",
     "output_type": "stream",
     "text": [
      "Model Acc: 0.6666666666666666\n",
      "Part Acc: 0.7142857142857143\n",
      "Part matches model: 0.8571428571428571\n"
     ]
    }
   ],
   "source": [
    "part_acc = (df['true'] == df['select']).astype(int).mean()\n",
    "model_acc = (df['true'] == df['pred']).astype(int).mean()\n",
    "\n",
    "part_model = (df['pred'] == df['select']).astype(int).mean()\n",
    "\n",
    "print(f'Model Acc: {model_acc}')\n",
    "print(f'Part Acc: {part_acc}')\n",
    "print(f'Part matches model: {part_model}')"
   ]
  },
  {
   "cell_type": "code",
   "execution_count": 34,
   "metadata": {},
   "outputs": [
    {
     "data": {
      "text/plain": [
       "0.7142857142857143"
      ]
     },
     "execution_count": 34,
     "metadata": {},
     "output_type": "execute_result"
    }
   ],
   "source": [
    "agree_cond = df['pred'] == df['select']\n",
    "incorrect_preds = (df['pred'] != df['true']) \n",
    "or_cond = agree_cond & incorrect_preds\n",
    "\n",
    "overreliance = (or_cond).astype(int).sum() / (df['pred'] != df['true']).sum()\n",
    "overreliance"
   ]
  },
  {
   "cell_type": "code",
   "execution_count": 35,
   "metadata": {},
   "outputs": [
    {
     "data": {
      "text/plain": [
       "(36, 14, 10)"
      ]
     },
     "execution_count": 35,
     "metadata": {},
     "output_type": "execute_result"
    }
   ],
   "source": [
    "agree_cond.astype(int).sum(), incorrect_preds.astype(int).sum(), or_cond.astype(int).sum()"
   ]
  },
  {
   "cell_type": "code",
   "execution_count": 36,
   "metadata": {},
   "outputs": [
    {
     "data": {
      "text/html": [
       "<div>\n",
       "<style scoped>\n",
       "    .dataframe tbody tr th:only-of-type {\n",
       "        vertical-align: middle;\n",
       "    }\n",
       "\n",
       "    .dataframe tbody tr th {\n",
       "        vertical-align: top;\n",
       "    }\n",
       "\n",
       "    .dataframe thead th {\n",
       "        text-align: right;\n",
       "    }\n",
       "</style>\n",
       "<table border=\"1\" class=\"dataframe\">\n",
       "  <thead>\n",
       "    <tr style=\"text-align: right;\">\n",
       "      <th></th>\n",
       "      <th>id</th>\n",
       "      <th>true</th>\n",
       "      <th>pred</th>\n",
       "      <th>select</th>\n",
       "    </tr>\n",
       "  </thead>\n",
       "  <tbody>\n",
       "    <tr>\n",
       "      <th>0</th>\n",
       "      <td>89844e28-0486-407d-a1ec-ddd52f79e2db</td>\n",
       "      <td>1</td>\n",
       "      <td>0</td>\n",
       "      <td>0</td>\n",
       "    </tr>\n",
       "    <tr>\n",
       "      <th>1</th>\n",
       "      <td>55b962ad-0846-4182-8164-a4e217064022</td>\n",
       "      <td>0</td>\n",
       "      <td>1</td>\n",
       "      <td>1</td>\n",
       "    </tr>\n",
       "    <tr>\n",
       "      <th>8</th>\n",
       "      <td>c5af9e51-4173-4335-8959-fd374eab2016</td>\n",
       "      <td>1</td>\n",
       "      <td>0</td>\n",
       "      <td>0</td>\n",
       "    </tr>\n",
       "    <tr>\n",
       "      <th>9</th>\n",
       "      <td>39ec415c-2a6e-46b1-bb68-6a818fe58877</td>\n",
       "      <td>0</td>\n",
       "      <td>1</td>\n",
       "      <td>1</td>\n",
       "    </tr>\n",
       "    <tr>\n",
       "      <th>11</th>\n",
       "      <td>d3a5f43f-73d0-41b7-9204-1d5c36eabcd1</td>\n",
       "      <td>0</td>\n",
       "      <td>1</td>\n",
       "      <td>1</td>\n",
       "    </tr>\n",
       "    <tr>\n",
       "      <th>22</th>\n",
       "      <td>8ebfa9c5-06ff-490f-8386-4ab1eecb8fca</td>\n",
       "      <td>1</td>\n",
       "      <td>0</td>\n",
       "      <td>0</td>\n",
       "    </tr>\n",
       "    <tr>\n",
       "      <th>24</th>\n",
       "      <td>85268050-f38c-41a7-bf0a-1b94941a1ec5</td>\n",
       "      <td>1</td>\n",
       "      <td>0</td>\n",
       "      <td>0</td>\n",
       "    </tr>\n",
       "    <tr>\n",
       "      <th>25</th>\n",
       "      <td>6af7a6a3-f313-4a68-910b-4f906753d8df</td>\n",
       "      <td>0</td>\n",
       "      <td>1</td>\n",
       "      <td>1</td>\n",
       "    </tr>\n",
       "    <tr>\n",
       "      <th>34</th>\n",
       "      <td>ced98996-3624-41ba-95af-4cca24607e25</td>\n",
       "      <td>1</td>\n",
       "      <td>0</td>\n",
       "      <td>0</td>\n",
       "    </tr>\n",
       "    <tr>\n",
       "      <th>40</th>\n",
       "      <td>22af81db-66ec-4310-9173-aa8a6aac687d</td>\n",
       "      <td>0</td>\n",
       "      <td>1</td>\n",
       "      <td>1</td>\n",
       "    </tr>\n",
       "  </tbody>\n",
       "</table>\n",
       "</div>"
      ],
      "text/plain": [
       "                                      id  true  pred  select\n",
       "0   89844e28-0486-407d-a1ec-ddd52f79e2db     1     0       0\n",
       "1   55b962ad-0846-4182-8164-a4e217064022     0     1       1\n",
       "8   c5af9e51-4173-4335-8959-fd374eab2016     1     0       0\n",
       "9   39ec415c-2a6e-46b1-bb68-6a818fe58877     0     1       1\n",
       "11  d3a5f43f-73d0-41b7-9204-1d5c36eabcd1     0     1       1\n",
       "22  8ebfa9c5-06ff-490f-8386-4ab1eecb8fca     1     0       0\n",
       "24  85268050-f38c-41a7-bf0a-1b94941a1ec5     1     0       0\n",
       "25  6af7a6a3-f313-4a68-910b-4f906753d8df     0     1       1\n",
       "34  ced98996-3624-41ba-95af-4cca24607e25     1     0       0\n",
       "40  22af81db-66ec-4310-9173-aa8a6aac687d     0     1       1"
      ]
     },
     "execution_count": 36,
     "metadata": {},
     "output_type": "execute_result"
    }
   ],
   "source": [
    "df[or_cond]"
   ]
  },
  {
   "cell_type": "code",
   "execution_count": 16,
   "metadata": {},
   "outputs": [],
   "source": [
    "# df.to_csv('/Users/djohnson/Library/CloudStorage/GoogleDrive-fortjay81@gmail.com/My Drive/hcxai/app_results.csv')"
   ]
  },
  {
   "cell_type": "code",
   "execution_count": 17,
   "metadata": {},
   "outputs": [
    {
     "data": {
      "text/plain": [
       "(0.6666666666666666, 0.23809523809523808, 0.7142857142857143)"
      ]
     },
     "execution_count": 17,
     "metadata": {},
     "output_type": "execute_result"
    }
   ],
   "source": [
    "r_cond = (df['pred'] == df['select'])\n",
    "da_cond = ~r_cond\n",
    "ar_cond = da_cond & (df['select'] == df['true'])\n",
    "\n",
    "reliance = (r_cond).astype(int).sum() / len(df)\n",
    "disagree = (ar_cond).astype(int).sum() / len(df)\n",
    "app_reliance = (ar_cond).astype(int).sum() / (da_cond).astype(int).sum()\n",
    "\n",
    "reliance, disagree, app_reliance"
   ]
  },
  {
   "cell_type": "code",
   "execution_count": 10,
   "metadata": {},
   "outputs": [
    {
     "data": {
      "text/html": [
       "<div>\n",
       "<style scoped>\n",
       "    .dataframe tbody tr th:only-of-type {\n",
       "        vertical-align: middle;\n",
       "    }\n",
       "\n",
       "    .dataframe tbody tr th {\n",
       "        vertical-align: top;\n",
       "    }\n",
       "\n",
       "    .dataframe thead th {\n",
       "        text-align: right;\n",
       "    }\n",
       "</style>\n",
       "<table border=\"1\" class=\"dataframe\">\n",
       "  <thead>\n",
       "    <tr style=\"text-align: right;\">\n",
       "      <th></th>\n",
       "      <th>id</th>\n",
       "      <th>true</th>\n",
       "      <th>pred</th>\n",
       "      <th>select</th>\n",
       "    </tr>\n",
       "  </thead>\n",
       "  <tbody>\n",
       "    <tr>\n",
       "      <th>2</th>\n",
       "      <td>dd8762d4-6649-4834-96fa-2ed8a28aae4b</td>\n",
       "      <td>0</td>\n",
       "      <td>0</td>\n",
       "      <td>1</td>\n",
       "    </tr>\n",
       "    <tr>\n",
       "      <th>19</th>\n",
       "      <td>87556149-13c5-48a7-8ec1-3b056dbb3bac</td>\n",
       "      <td>0</td>\n",
       "      <td>1</td>\n",
       "      <td>0</td>\n",
       "    </tr>\n",
       "    <tr>\n",
       "      <th>21</th>\n",
       "      <td>16da59b6-09c4-4596-b021-27d858814ab1</td>\n",
       "      <td>0</td>\n",
       "      <td>1</td>\n",
       "      <td>0</td>\n",
       "    </tr>\n",
       "    <tr>\n",
       "      <th>27</th>\n",
       "      <td>2756db17-141b-445b-90c1-fc08fa137612</td>\n",
       "      <td>1</td>\n",
       "      <td>0</td>\n",
       "      <td>1</td>\n",
       "    </tr>\n",
       "    <tr>\n",
       "      <th>35</th>\n",
       "      <td>4a0ba71e-00bf-491f-a8de-f85673a3a8da</td>\n",
       "      <td>1</td>\n",
       "      <td>1</td>\n",
       "      <td>0</td>\n",
       "    </tr>\n",
       "    <tr>\n",
       "      <th>39</th>\n",
       "      <td>cef76c47-5bc4-4216-9adb-771a9d773a56</td>\n",
       "      <td>1</td>\n",
       "      <td>0</td>\n",
       "      <td>1</td>\n",
       "    </tr>\n",
       "  </tbody>\n",
       "</table>\n",
       "</div>"
      ],
      "text/plain": [
       "                                      id  true  pred  select\n",
       "2   dd8762d4-6649-4834-96fa-2ed8a28aae4b     0     0       1\n",
       "19  87556149-13c5-48a7-8ec1-3b056dbb3bac     0     1       0\n",
       "21  16da59b6-09c4-4596-b021-27d858814ab1     0     1       0\n",
       "27  2756db17-141b-445b-90c1-fc08fa137612     1     0       1\n",
       "35  4a0ba71e-00bf-491f-a8de-f85673a3a8da     1     1       0\n",
       "39  cef76c47-5bc4-4216-9adb-771a9d773a56     1     0       1"
      ]
     },
     "execution_count": 10,
     "metadata": {},
     "output_type": "execute_result"
    }
   ],
   "source": [
    "df[da_cond] "
   ]
  },
  {
   "cell_type": "code",
   "execution_count": null,
   "metadata": {},
   "outputs": [],
   "source": []
  }
 ],
 "metadata": {
  "kernelspec": {
   "display_name": "Python 3",
   "language": "python",
   "name": "python3"
  },
  "language_info": {
   "codemirror_mode": {
    "name": "ipython",
    "version": 3
   },
   "file_extension": ".py",
   "mimetype": "text/x-python",
   "name": "python",
   "nbconvert_exporter": "python",
   "pygments_lexer": "ipython3",
   "version": "3.10.14"
  }
 },
 "nbformat": 4,
 "nbformat_minor": 2
}
