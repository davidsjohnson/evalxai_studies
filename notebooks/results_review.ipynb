{
 "cells": [
  {
   "cell_type": "code",
   "execution_count": 58,
   "metadata": {},
   "outputs": [],
   "source": [
    "from pathlib import Path\n",
    "import pandas as pd"
   ]
  },
  {
   "cell_type": "code",
   "execution_count": 71,
   "metadata": {},
   "outputs": [
    {
     "data": {
      "text/plain": [
       "PosixPath('/Users/djohnson/sciebo/1. Research/1. HCXAI/1. Projects/evalxai_studies/example_validation_study/validation_noxai/results/results_validation_noxai_43787.csv')"
      ]
     },
     "execution_count": 71,
     "metadata": {},
     "output_type": "execute_result"
    }
   ],
   "source": [
    "CLASSES = ['Healthy', 'Blockies Disease']\n",
    "input_stages = {'0': 'training', '1': 'validation_nodiag', '2': 'validation_noxai'}\n",
    "BASEPATH = Path('/Users/djohnson/sciebo/1. Research/1. HCXAI/1. Projects/evalxai_studies/example_validation_study')\n",
    "\n",
    "stage ='2'\n",
    "id = '43787'\n",
    "\n",
    "resfile = BASEPATH / input_stages[stage] / 'results' / f'results_{input_stages[stage]}_{id}.csv'\n",
    "resfile"
   ]
  },
  {
   "cell_type": "code",
   "execution_count": 72,
   "metadata": {},
   "outputs": [
    {
     "data": {
      "text/html": [
       "<div>\n",
       "<style scoped>\n",
       "    .dataframe tbody tr th:only-of-type {\n",
       "        vertical-align: middle;\n",
       "    }\n",
       "\n",
       "    .dataframe tbody tr th {\n",
       "        vertical-align: top;\n",
       "    }\n",
       "\n",
       "    .dataframe thead th {\n",
       "        text-align: right;\n",
       "    }\n",
       "</style>\n",
       "<table border=\"1\" class=\"dataframe\">\n",
       "  <thead>\n",
       "    <tr style=\"text-align: right;\">\n",
       "      <th></th>\n",
       "      <th>id</th>\n",
       "      <th>true</th>\n",
       "      <th>pred</th>\n",
       "      <th>select</th>\n",
       "    </tr>\n",
       "  </thead>\n",
       "  <tbody>\n",
       "    <tr>\n",
       "      <th>11</th>\n",
       "      <td>dcab2c2e-9f11-49fc-9250-345ccbfbe2a3</td>\n",
       "      <td>1</td>\n",
       "      <td>0</td>\n",
       "      <td>1</td>\n",
       "    </tr>\n",
       "    <tr>\n",
       "      <th>37</th>\n",
       "      <td>ea501f43-ff31-47e4-939e-64a05101b8a5</td>\n",
       "      <td>1</td>\n",
       "      <td>1</td>\n",
       "      <td>1</td>\n",
       "    </tr>\n",
       "    <tr>\n",
       "      <th>38</th>\n",
       "      <td>680ff6d7-2bbd-4915-92b4-7fbebb5c2798</td>\n",
       "      <td>0</td>\n",
       "      <td>0</td>\n",
       "      <td>1</td>\n",
       "    </tr>\n",
       "    <tr>\n",
       "      <th>32</th>\n",
       "      <td>e50b8d09-34d4-4e48-8cd6-fa796e4e873e</td>\n",
       "      <td>1</td>\n",
       "      <td>1</td>\n",
       "      <td>1</td>\n",
       "    </tr>\n",
       "    <tr>\n",
       "      <th>13</th>\n",
       "      <td>50ef96f0-13dc-40fd-864e-fb84ccb59e44</td>\n",
       "      <td>0</td>\n",
       "      <td>1</td>\n",
       "      <td>1</td>\n",
       "    </tr>\n",
       "  </tbody>\n",
       "</table>\n",
       "</div>"
      ],
      "text/plain": [
       "                                      id  true  pred  select\n",
       "11  dcab2c2e-9f11-49fc-9250-345ccbfbe2a3     1     0       1\n",
       "37  ea501f43-ff31-47e4-939e-64a05101b8a5     1     1       1\n",
       "38  680ff6d7-2bbd-4915-92b4-7fbebb5c2798     0     0       1\n",
       "32  e50b8d09-34d4-4e48-8cd6-fa796e4e873e     1     1       1\n",
       "13  50ef96f0-13dc-40fd-864e-fb84ccb59e44     0     1       1"
      ]
     },
     "execution_count": 72,
     "metadata": {},
     "output_type": "execute_result"
    }
   ],
   "source": [
    "\n",
    "df = pd.read_csv(resfile)\n",
    "df.sample(5)"
   ]
  },
  {
   "cell_type": "code",
   "execution_count": 73,
   "metadata": {},
   "outputs": [
    {
     "name": "stdout",
     "output_type": "stream",
     "text": [
      "Model Acc: 0.6666666666666666\n",
      "Part Acc: 0.6666666666666666\n",
      "Part matches model: 0.7142857142857143\n"
     ]
    }
   ],
   "source": [
    "part_acc = (df['true'] == df['select']).astype(int).mean()\n",
    "model_acc = (df['true'] == df['pred']).astype(int).mean()\n",
    "\n",
    "part_model = (df['pred'] == df['select']).astype(int).mean()\n",
    "\n",
    "print(f'Model Acc: {model_acc}')\n",
    "print(f'Part Acc: {part_acc}')\n",
    "print(f'Part matches model: {part_model}')"
   ]
  },
  {
   "cell_type": "code",
   "execution_count": 74,
   "metadata": {},
   "outputs": [
    {
     "data": {
      "text/plain": [
       "0.5714285714285714"
      ]
     },
     "execution_count": 74,
     "metadata": {},
     "output_type": "execute_result"
    }
   ],
   "source": [
    "or_cond = (df['pred'] == df['select']) & (df['pred'] != df['true'])\n",
    "overreliance = (or_cond).astype(int).sum() / (df['pred'] != df['true']).sum()\n",
    "overreliance"
   ]
  },
  {
   "cell_type": "code",
   "execution_count": 75,
   "metadata": {},
   "outputs": [
    {
     "data": {
      "text/html": [
       "<div>\n",
       "<style scoped>\n",
       "    .dataframe tbody tr th:only-of-type {\n",
       "        vertical-align: middle;\n",
       "    }\n",
       "\n",
       "    .dataframe tbody tr th {\n",
       "        vertical-align: top;\n",
       "    }\n",
       "\n",
       "    .dataframe thead th {\n",
       "        text-align: right;\n",
       "    }\n",
       "</style>\n",
       "<table border=\"1\" class=\"dataframe\">\n",
       "  <thead>\n",
       "    <tr style=\"text-align: right;\">\n",
       "      <th></th>\n",
       "      <th>id</th>\n",
       "      <th>true</th>\n",
       "      <th>pred</th>\n",
       "      <th>select</th>\n",
       "    </tr>\n",
       "  </thead>\n",
       "  <tbody>\n",
       "    <tr>\n",
       "      <th>2</th>\n",
       "      <td>0035c5bb-5704-4a5a-9f53-dea0b9513ba6</td>\n",
       "      <td>1</td>\n",
       "      <td>0</td>\n",
       "      <td>0</td>\n",
       "    </tr>\n",
       "    <tr>\n",
       "      <th>12</th>\n",
       "      <td>5aed3aae-857b-4fde-bd39-fa7a9a784b8e</td>\n",
       "      <td>1</td>\n",
       "      <td>0</td>\n",
       "      <td>0</td>\n",
       "    </tr>\n",
       "    <tr>\n",
       "      <th>13</th>\n",
       "      <td>50ef96f0-13dc-40fd-864e-fb84ccb59e44</td>\n",
       "      <td>0</td>\n",
       "      <td>1</td>\n",
       "      <td>1</td>\n",
       "    </tr>\n",
       "    <tr>\n",
       "      <th>14</th>\n",
       "      <td>18a6b8f7-a880-4142-a463-2dc95316c3a1</td>\n",
       "      <td>0</td>\n",
       "      <td>1</td>\n",
       "      <td>1</td>\n",
       "    </tr>\n",
       "    <tr>\n",
       "      <th>16</th>\n",
       "      <td>41002a17-0b92-4d5c-ad0e-dd6b195c397c</td>\n",
       "      <td>1</td>\n",
       "      <td>0</td>\n",
       "      <td>0</td>\n",
       "    </tr>\n",
       "    <tr>\n",
       "      <th>18</th>\n",
       "      <td>0a171071-b821-4f37-8cfe-9fec6b34391a</td>\n",
       "      <td>1</td>\n",
       "      <td>0</td>\n",
       "      <td>0</td>\n",
       "    </tr>\n",
       "    <tr>\n",
       "      <th>24</th>\n",
       "      <td>2e646ea0-fde6-48be-b45d-36786ababfd4</td>\n",
       "      <td>1</td>\n",
       "      <td>0</td>\n",
       "      <td>0</td>\n",
       "    </tr>\n",
       "    <tr>\n",
       "      <th>30</th>\n",
       "      <td>7b9a7adf-d9b8-412e-8836-c269cd6df127</td>\n",
       "      <td>0</td>\n",
       "      <td>1</td>\n",
       "      <td>1</td>\n",
       "    </tr>\n",
       "  </tbody>\n",
       "</table>\n",
       "</div>"
      ],
      "text/plain": [
       "                                      id  true  pred  select\n",
       "2   0035c5bb-5704-4a5a-9f53-dea0b9513ba6     1     0       0\n",
       "12  5aed3aae-857b-4fde-bd39-fa7a9a784b8e     1     0       0\n",
       "13  50ef96f0-13dc-40fd-864e-fb84ccb59e44     0     1       1\n",
       "14  18a6b8f7-a880-4142-a463-2dc95316c3a1     0     1       1\n",
       "16  41002a17-0b92-4d5c-ad0e-dd6b195c397c     1     0       0\n",
       "18  0a171071-b821-4f37-8cfe-9fec6b34391a     1     0       0\n",
       "24  2e646ea0-fde6-48be-b45d-36786ababfd4     1     0       0\n",
       "30  7b9a7adf-d9b8-412e-8836-c269cd6df127     0     1       1"
      ]
     },
     "execution_count": 75,
     "metadata": {},
     "output_type": "execute_result"
    }
   ],
   "source": [
    "df[or_cond]"
   ]
  },
  {
   "cell_type": "code",
   "execution_count": 65,
   "metadata": {},
   "outputs": [],
   "source": [
    "# df.to_csv('/Users/djohnson/Library/CloudStorage/GoogleDrive-fortjay81@gmail.com/My Drive/hcxai/app_results.csv')"
   ]
  },
  {
   "cell_type": "code",
   "execution_count": 81,
   "metadata": {},
   "outputs": [
    {
     "data": {
      "text/plain": [
       "(0.7142857142857143, 0.2857142857142857, 0.5)"
      ]
     },
     "execution_count": 81,
     "metadata": {},
     "output_type": "execute_result"
    }
   ],
   "source": [
    "r_cond = (df['pred'] == df['select'])\n",
    "da_cond = ~r_cond\n",
    "ar_cond = da_cond & (df['select'] == df['true'])\n",
    "\n",
    "reliance = (r_cond).astype(int).sum() / len(df)\n",
    "disagree = (ar_cond).astype(int).sum() / len(df)\n",
    "app_reliance = (ar_cond).astype(int).sum() / (da_cond).astype(int).sum()\n",
    "\n",
    "reliance, disagree, app_reliance"
   ]
  },
  {
   "cell_type": "code",
   "execution_count": 83,
   "metadata": {},
   "outputs": [
    {
     "data": {
      "text/html": [
       "<div>\n",
       "<style scoped>\n",
       "    .dataframe tbody tr th:only-of-type {\n",
       "        vertical-align: middle;\n",
       "    }\n",
       "\n",
       "    .dataframe tbody tr th {\n",
       "        vertical-align: top;\n",
       "    }\n",
       "\n",
       "    .dataframe thead th {\n",
       "        text-align: right;\n",
       "    }\n",
       "</style>\n",
       "<table border=\"1\" class=\"dataframe\">\n",
       "  <thead>\n",
       "    <tr style=\"text-align: right;\">\n",
       "      <th></th>\n",
       "      <th>id</th>\n",
       "      <th>true</th>\n",
       "      <th>pred</th>\n",
       "      <th>select</th>\n",
       "    </tr>\n",
       "  </thead>\n",
       "  <tbody>\n",
       "    <tr>\n",
       "      <th>0</th>\n",
       "      <td>ff70b4d2-a056-486c-8e44-5ceefa4d113f</td>\n",
       "      <td>0</td>\n",
       "      <td>1</td>\n",
       "      <td>0</td>\n",
       "    </tr>\n",
       "    <tr>\n",
       "      <th>1</th>\n",
       "      <td>89a1f820-9719-4085-aa1b-f058c3b3442e</td>\n",
       "      <td>1</td>\n",
       "      <td>1</td>\n",
       "      <td>0</td>\n",
       "    </tr>\n",
       "    <tr>\n",
       "      <th>10</th>\n",
       "      <td>f2ad41b2-29f0-4dfb-ab6f-db947bafe2c2</td>\n",
       "      <td>0</td>\n",
       "      <td>1</td>\n",
       "      <td>0</td>\n",
       "    </tr>\n",
       "    <tr>\n",
       "      <th>11</th>\n",
       "      <td>dcab2c2e-9f11-49fc-9250-345ccbfbe2a3</td>\n",
       "      <td>1</td>\n",
       "      <td>0</td>\n",
       "      <td>1</td>\n",
       "    </tr>\n",
       "    <tr>\n",
       "      <th>19</th>\n",
       "      <td>d4e215b5-8373-4118-bc64-8a2f7872655b</td>\n",
       "      <td>0</td>\n",
       "      <td>1</td>\n",
       "      <td>0</td>\n",
       "    </tr>\n",
       "    <tr>\n",
       "      <th>20</th>\n",
       "      <td>98d2595f-3c33-4701-afea-fff5b586127d</td>\n",
       "      <td>1</td>\n",
       "      <td>1</td>\n",
       "      <td>0</td>\n",
       "    </tr>\n",
       "    <tr>\n",
       "      <th>22</th>\n",
       "      <td>c8a777a2-4067-406e-a1ec-d93de720c4bc</td>\n",
       "      <td>0</td>\n",
       "      <td>0</td>\n",
       "      <td>1</td>\n",
       "    </tr>\n",
       "    <tr>\n",
       "      <th>27</th>\n",
       "      <td>3a93601a-6754-4e98-abcb-7960782484bb</td>\n",
       "      <td>0</td>\n",
       "      <td>0</td>\n",
       "      <td>1</td>\n",
       "    </tr>\n",
       "    <tr>\n",
       "      <th>28</th>\n",
       "      <td>03a5305d-4f64-4f9a-81da-d3da889cfd3c</td>\n",
       "      <td>1</td>\n",
       "      <td>0</td>\n",
       "      <td>1</td>\n",
       "    </tr>\n",
       "    <tr>\n",
       "      <th>38</th>\n",
       "      <td>680ff6d7-2bbd-4915-92b4-7fbebb5c2798</td>\n",
       "      <td>0</td>\n",
       "      <td>0</td>\n",
       "      <td>1</td>\n",
       "    </tr>\n",
       "    <tr>\n",
       "      <th>40</th>\n",
       "      <td>4a438be3-c76e-4a23-ac9d-7ecf94482cc6</td>\n",
       "      <td>0</td>\n",
       "      <td>0</td>\n",
       "      <td>1</td>\n",
       "    </tr>\n",
       "    <tr>\n",
       "      <th>41</th>\n",
       "      <td>067ddf35-4612-4d07-9339-215da1672f72</td>\n",
       "      <td>1</td>\n",
       "      <td>0</td>\n",
       "      <td>1</td>\n",
       "    </tr>\n",
       "  </tbody>\n",
       "</table>\n",
       "</div>"
      ],
      "text/plain": [
       "                                      id  true  pred  select\n",
       "0   ff70b4d2-a056-486c-8e44-5ceefa4d113f     0     1       0\n",
       "1   89a1f820-9719-4085-aa1b-f058c3b3442e     1     1       0\n",
       "10  f2ad41b2-29f0-4dfb-ab6f-db947bafe2c2     0     1       0\n",
       "11  dcab2c2e-9f11-49fc-9250-345ccbfbe2a3     1     0       1\n",
       "19  d4e215b5-8373-4118-bc64-8a2f7872655b     0     1       0\n",
       "20  98d2595f-3c33-4701-afea-fff5b586127d     1     1       0\n",
       "22  c8a777a2-4067-406e-a1ec-d93de720c4bc     0     0       1\n",
       "27  3a93601a-6754-4e98-abcb-7960782484bb     0     0       1\n",
       "28  03a5305d-4f64-4f9a-81da-d3da889cfd3c     1     0       1\n",
       "38  680ff6d7-2bbd-4915-92b4-7fbebb5c2798     0     0       1\n",
       "40  4a438be3-c76e-4a23-ac9d-7ecf94482cc6     0     0       1\n",
       "41  067ddf35-4612-4d07-9339-215da1672f72     1     0       1"
      ]
     },
     "execution_count": 83,
     "metadata": {},
     "output_type": "execute_result"
    }
   ],
   "source": [
    "df[da_cond] "
   ]
  },
  {
   "cell_type": "code",
   "execution_count": null,
   "metadata": {},
   "outputs": [],
   "source": []
  }
 ],
 "metadata": {
  "kernelspec": {
   "display_name": "Python 3",
   "language": "python",
   "name": "python3"
  },
  "language_info": {
   "codemirror_mode": {
    "name": "ipython",
    "version": 3
   },
   "file_extension": ".py",
   "mimetype": "text/x-python",
   "name": "python",
   "nbconvert_exporter": "python",
   "pygments_lexer": "ipython3",
   "version": "3.10.14"
  }
 },
 "nbformat": 4,
 "nbformat_minor": 2
}
